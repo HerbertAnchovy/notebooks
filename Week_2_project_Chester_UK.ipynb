{
  "nbformat": 4,
  "nbformat_minor": 0,
  "metadata": {
    "colab": {
      "name": "Week_2_project_Chester_UK.ipynb",
      "version": "0.3.2",
      "provenance": [],
      "include_colab_link": true
    },
    "language_info": {
      "codemirror_mode": {
        "name": "ipython",
        "version": 3
      },
      "file_extension": ".py",
      "mimetype": "text/x-python",
      "name": "python",
      "nbconvert_exporter": "python",
      "pygments_lexer": "ipython3",
      "version": "3.4.3"
    },
    "kernelspec": {
      "display_name": "Python 3",
      "language": "python",
      "name": "python3"
    }
  },
  "cells": [
    {
      "cell_type": "markdown",
      "metadata": {
        "id": "view-in-github",
        "colab_type": "text"
      },
      "source": [
        "<a href=\"https://colab.research.google.com/github/HerbertAnchovy/notebooks/blob/master/Week_2_project_Chester_UK.ipynb\" target=\"_parent\"><img src=\"https://colab.research.google.com/assets/colab-badge.svg\" alt=\"Open In Colab\"/></a>"
      ]
    },
    {
      "cell_type": "markdown",
      "metadata": {
        "id": "fNUCMHjsA8s1",
        "colab_type": "text"
      },
      "source": [
        "<div>\n",
        "<a id=\"Top\"></a>\n",
        "<img style=\"float: left;\" src=\"https://msds.open.ac.uk/includes/oulogo_hor_75x55.gif\">&nbsp;&nbsp;&nbsp;\n",
        "</div>\n",
        "<br/>\n",
        "<br/>\n",
        "\n",
        "# Project 2:  Holiday weather - Chester, UK\n",
        "\n",
        "#### by [Jez Phipps](https://www.futurelearn.com/profiles/3841612) (17th October 2016).\n",
        "\n",
        "This is the project notebook for Week 2 of The Open University's [_Learn to code for Data Analysis_](http://futurelearn.com/courses/learn-to-code) course.\n",
        "\n",
        "In this project I am going to use the historic weather data from the Weather Underground website for the historic city of [_Chester_](http://www.visitchester.com/perfect-chester). In a rather rare burst of optimism, I 'decided' to attempt to predict the best two good weeks to take off next summer. Of course the weather next year may be very different to 2015 but it should give me some indication of when would be a good time to take a summer break.\n",
        "\n",
        "## Getting the data\n",
        "\n",
        "The 'Chester_2015.csv' source data can be obtained as follows. Right-click on the following URL and choose 'Open Link in New Window' (or similar, depending on your browser):\n",
        "\n",
        "http://www.wunderground.com/history\n",
        "\n",
        "When the new page opens, start typing 'Chester' in the 'Location' input box and when the pop up menu comes up with the option 'Chester, United Kingdom' select it and then click on 'Submit'. \n",
        "\n",
        "When the next page opens click on the 'Custom' tab and selet the time period From: 1 January 2015 to: 31 December 2015 and then click on 'Get History'. The data for that year should then be displayed. Scroll to the end of the data and then right click on the blue link labelled 'Comma Delimited File':\n",
        "\n",
        "- if you are using the Safari Browser choose Download Linked File As ... \n",
        "- if you are using the Chrome Browser choose Save Link As ... \n",
        "\n",
        "then, in the File dialogue that appears save the file with its default name of 'CustomHistory' to the folder you created for this course and where this notebook is located. Once the file has been downloaded rename it *from* 'CustomHistory.html' *to* 'Chester_2015.csv'.\n",
        "\n",
        "Now load the CSV file into a dataframe making sure that any extra spaces are skipped:"
      ]
    },
    {
      "cell_type": "code",
      "metadata": {
        "id": "Gkgr1N3qA8s3",
        "colab_type": "code",
        "colab": {}
      },
      "source": [
        "import warnings\n",
        "warnings.simplefilter('ignore', FutureWarning)\n",
        "\n",
        "from pandas import *\n",
        "chester = read_csv('Chester_2015.csv', skipinitialspace=True)"
      ],
      "execution_count": 0,
      "outputs": []
    },
    {
      "cell_type": "markdown",
      "metadata": {
        "id": "cwCeS7d6A8s9",
        "colab_type": "text"
      },
      "source": [
        "## Cleaning the data\n",
        "First we need to clean up the data. I'm not going to make use of `'WindDirDegrees'` in my analysis, but you might in yours so we'll rename `'WindDirDegrees< br />'` to `'WindDirDegrees'`. "
      ]
    },
    {
      "cell_type": "code",
      "metadata": {
        "id": "VsuluRaQA8s-",
        "colab_type": "code",
        "colab": {}
      },
      "source": [
        "chester = chester.rename(columns={'WindDirDegrees<br />' : 'WindDirDegrees'})"
      ],
      "execution_count": 0,
      "outputs": []
    },
    {
      "cell_type": "markdown",
      "metadata": {
        "id": "MiuTlHBGA8tC",
        "colab_type": "text"
      },
      "source": [
        "remove the  `< br />`  html line breaks from the values in the `'WindDirDegrees'` column. "
      ]
    },
    {
      "cell_type": "code",
      "metadata": {
        "id": "VGI_ABD0A8tE",
        "colab_type": "code",
        "colab": {}
      },
      "source": [
        "chester['WindDirDegrees'] = chester['WindDirDegrees'].str.rstrip('<br />')"
      ],
      "execution_count": 0,
      "outputs": []
    },
    {
      "cell_type": "markdown",
      "metadata": {
        "id": "quT8daYqA8tI",
        "colab_type": "text"
      },
      "source": [
        "and change the values in the `'WindDirDegrees'` column to `float64`:"
      ]
    },
    {
      "cell_type": "code",
      "metadata": {
        "id": "_fbitGK_A8tJ",
        "colab_type": "code",
        "colab": {},
        "outputId": "3ae9695e-0675-4b74-ad96-a80f869f29eb"
      },
      "source": [
        "chester['WindDirDegrees'] = chester['WindDirDegrees'].astype('float64')\n",
        "chester['WindDirDegrees'].dtypes"
      ],
      "execution_count": 0,
      "outputs": [
        {
          "output_type": "execute_result",
          "data": {
            "text/plain": [
              "dtype('float64')"
            ]
          },
          "metadata": {
            "tags": []
          },
          "execution_count": 4
        }
      ]
    },
    {
      "cell_type": "markdown",
      "metadata": {
        "id": "RNti6P2ZA8tR",
        "colab_type": "text"
      },
      "source": [
        "We definitely need to change the values in the `'GMT'` column into values of the `datetime64`  date type."
      ]
    },
    {
      "cell_type": "code",
      "metadata": {
        "id": "fl7knXRSA8tS",
        "colab_type": "code",
        "colab": {}
      },
      "source": [
        "chester['GMT'] = to_datetime(chester['GMT'])"
      ],
      "execution_count": 0,
      "outputs": []
    },
    {
      "cell_type": "markdown",
      "metadata": {
        "id": "Mmgqb2iKA8tW",
        "colab_type": "text"
      },
      "source": [
        "We also need to change the index from the default to the `datetime64` values in the `'GMT'` column so that it is easier to pull out rows between particular dates and display more meaningful graphs: "
      ]
    },
    {
      "cell_type": "code",
      "metadata": {
        "id": "dqGbQc8cA8tY",
        "colab_type": "code",
        "colab": {}
      },
      "source": [
        "chester.index = chester['GMT']"
      ],
      "execution_count": 0,
      "outputs": []
    },
    {
      "cell_type": "markdown",
      "metadata": {
        "id": "Rg5o9mXiA8tb",
        "colab_type": "text"
      },
      "source": [
        "## Finding a summer break\n",
        "\n",
        "According to meteorologists, summer extends for the whole months of June, July, and August in the northern hemisphere and the whole months of December, January, and February in the southern hemisphere. So as I'm in the northern hemisphere I'm going to create a dataframe that holds just those months using the `datetime` index, like this:"
      ]
    },
    {
      "cell_type": "code",
      "metadata": {
        "id": "q7vwL7jAA8tc",
        "colab_type": "code",
        "colab": {}
      },
      "source": [
        "summer = chester.ix[datetime(2015,6,1) : datetime(2015,8,31)]"
      ],
      "execution_count": 0,
      "outputs": []
    },
    {
      "cell_type": "markdown",
      "metadata": {
        "id": "ZJVK1meqA8th",
        "colab_type": "text"
      },
      "source": [
        "I'll now look for the days with warm temperatures."
      ]
    },
    {
      "cell_type": "code",
      "metadata": {
        "id": "S9iha3ApA8ti",
        "colab_type": "code",
        "colab": {},
        "outputId": "6e1b2467-245c-4f47-a16b-929dba932476"
      },
      "source": [
        "summer[summer['Mean TemperatureC'] >= 25]"
      ],
      "execution_count": 0,
      "outputs": [
        {
          "output_type": "execute_result",
          "data": {
            "text/html": [
              "<div>\n",
              "<table border=\"1\" class=\"dataframe\">\n",
              "  <thead>\n",
              "    <tr style=\"text-align: right;\">\n",
              "      <th></th>\n",
              "      <th>GMT</th>\n",
              "      <th>Max TemperatureC</th>\n",
              "      <th>Mean TemperatureC</th>\n",
              "      <th>Min TemperatureC</th>\n",
              "      <th>Dew PointC</th>\n",
              "      <th>MeanDew PointC</th>\n",
              "      <th>Min DewpointC</th>\n",
              "      <th>Max Humidity</th>\n",
              "      <th>Mean Humidity</th>\n",
              "      <th>Min Humidity</th>\n",
              "      <th>...</th>\n",
              "      <th>Max VisibilityKm</th>\n",
              "      <th>Mean VisibilityKm</th>\n",
              "      <th>Min VisibilitykM</th>\n",
              "      <th>Max Wind SpeedKm/h</th>\n",
              "      <th>Mean Wind SpeedKm/h</th>\n",
              "      <th>Max Gust SpeedKm/h</th>\n",
              "      <th>Precipitationmm</th>\n",
              "      <th>CloudCover</th>\n",
              "      <th>Events</th>\n",
              "      <th>WindDirDegrees</th>\n",
              "    </tr>\n",
              "    <tr>\n",
              "      <th>GMT</th>\n",
              "      <th></th>\n",
              "      <th></th>\n",
              "      <th></th>\n",
              "      <th></th>\n",
              "      <th></th>\n",
              "      <th></th>\n",
              "      <th></th>\n",
              "      <th></th>\n",
              "      <th></th>\n",
              "      <th></th>\n",
              "      <th></th>\n",
              "      <th></th>\n",
              "      <th></th>\n",
              "      <th></th>\n",
              "      <th></th>\n",
              "      <th></th>\n",
              "      <th></th>\n",
              "      <th></th>\n",
              "      <th></th>\n",
              "      <th></th>\n",
              "      <th></th>\n",
              "    </tr>\n",
              "  </thead>\n",
              "  <tbody>\n",
              "  </tbody>\n",
              "</table>\n",
              "<p>0 rows × 23 columns</p>\n",
              "</div>"
            ],
            "text/plain": [
              "Empty DataFrame\n",
              "Columns: [GMT, Max TemperatureC, Mean TemperatureC, Min TemperatureC, Dew PointC, MeanDew PointC, Min DewpointC, Max Humidity, Mean Humidity, Min Humidity, Max Sea Level PressurehPa, Mean Sea Level PressurehPa, Min Sea Level PressurehPa, Max VisibilityKm, Mean VisibilityKm, Min VisibilitykM, Max Wind SpeedKm/h, Mean Wind SpeedKm/h, Max Gust SpeedKm/h, Precipitationmm, CloudCover, Events, WindDirDegrees]\n",
              "Index: []\n",
              "\n",
              "[0 rows x 23 columns]"
            ]
          },
          "metadata": {
            "tags": []
          },
          "execution_count": 8
        }
      ]
    },
    {
      "cell_type": "markdown",
      "metadata": {
        "id": "x4dvwJlNA8tq",
        "colab_type": "text"
      },
      "source": [
        "Summer 2015 was rather cool in Chester: there are no days with temperatures of 25 &deg;C or higher. Best to see a graph of the temperature and look for the warmest period.\n",
        "\n",
        "So next we tell Jupyter to display any graph created inside this notebook:"
      ]
    },
    {
      "cell_type": "code",
      "metadata": {
        "id": "60P8VtzKA8tr",
        "colab_type": "code",
        "colab": {}
      },
      "source": [
        "%matplotlib inline"
      ],
      "execution_count": 0,
      "outputs": []
    },
    {
      "cell_type": "markdown",
      "metadata": {
        "collapsed": true,
        "id": "6x0ivSEaA8tv",
        "colab_type": "text"
      },
      "source": [
        "Now let's plot the `'Mean TemperatureC'` for the summer:"
      ]
    },
    {
      "cell_type": "code",
      "metadata": {
        "id": "4A37og_fA8tw",
        "colab_type": "code",
        "colab": {},
        "outputId": "6e16aae5-cb92-45dc-fb2a-3230505531f6"
      },
      "source": [
        "ax=summer['Mean TemperatureC'].plot(grid=True, figsize=(10,6))\n",
        "ax.set_ylabel('Mean Temperature ($^\\circ$C)')"
      ],
      "execution_count": 0,
      "outputs": [
        {
          "output_type": "execute_result",
          "data": {
            "text/plain": [
              "<matplotlib.text.Text at 0x7fd0ba8>"
            ]
          },
          "metadata": {
            "tags": []
          },
          "execution_count": 10
        },
        {
          "output_type": "display_data",
          "data": {
            "image/png": "[encoded data removed]",
            "text/plain": [
              "<matplotlib.figure.Figure at 0x7fb3320>"
            ]
          },
          "metadata": {
            "tags": []
          }
        }
      ]
    },
    {
      "cell_type": "markdown",
      "metadata": {
        "collapsed": false,
        "id": "pVz32AtEA8t0",
        "colab_type": "text"
      },
      "source": [
        "Looking at the graph above, it is apparent that the two weeks at the end of June have mean temperatures over 20 &deg;C.\n",
        "\n",
        "Let's also put precipitation on the graph:"
      ]
    },
    {
      "cell_type": "code",
      "metadata": {
        "id": "Zja8EHwyA8t2",
        "colab_type": "code",
        "colab": {},
        "outputId": "1c585cec-2eef-49e7-c592-1634b65f1c7e"
      },
      "source": [
        "ax=summer[['Mean TemperatureC', 'Precipitationmm']].plot(grid=True, figsize=(10,5))\n",
        "myLabels = ['Mean Temperature ($^\\circ$C)', 'Precipitation (mm)']\n",
        "ax.legend(labels=myLabels)"
      ],
      "execution_count": 0,
      "outputs": [
        {
          "output_type": "execute_result",
          "data": {
            "text/plain": [
              "<matplotlib.legend.Legend at 0x840f7b8>"
            ]
          },
          "metadata": {
            "tags": []
          },
          "execution_count": 11
        },
        {
          "output_type": "display_data",
          "data": {
            "image/png": "[encoded data removed]",
            "text/plain": [
              "<matplotlib.figure.Figure at 0x840fb00>"
            ]
          },
          "metadata": {
            "tags": []
          }
        }
      ]
    },
    {
      "cell_type": "markdown",
      "metadata": {
        "collapsed": false,
        "id": "6-vWd1t7A8t7",
        "colab_type": "text"
      },
      "source": [
        "The end of June / beginning of July still looks pretty good, with very little rain. Let's have a closer look by just plotting mean temperature and precipitation for the four weeks that span the end of June / beginning of July.  "
      ]
    },
    {
      "cell_type": "code",
      "metadata": {
        "id": "fgtl0rHKA8t8",
        "colab_type": "code",
        "colab": {},
        "outputId": "7ab6bede-66ee-4e39-e5d6-4bfcdd512ca5"
      },
      "source": [
        "junejuly = summer.ix[datetime(2015,6,17) : datetime(2015,7,14)]\n",
        "ax=junejuly[['Mean TemperatureC', 'Precipitationmm']].plot(grid=True, figsize=(10,5))\n",
        "myLabels = ['Mean Temperature ($^\\circ$C)', 'Precipitation (mm)']\n",
        "ax.legend(labels=myLabels)"
      ],
      "execution_count": 0,
      "outputs": [
        {
          "output_type": "execute_result",
          "data": {
            "text/plain": [
              "<matplotlib.legend.Legend at 0x84373c8>"
            ]
          },
          "metadata": {
            "tags": []
          },
          "execution_count": 12
        },
        {
          "output_type": "display_data",
          "data": {
            "image/png": "[encoded data removed]",
            "text/plain": [
              "<matplotlib.figure.Figure at 0x84376a0>"
            ]
          },
          "metadata": {
            "tags": []
          }
        }
      ]
    },
    {
      "cell_type": "code",
      "metadata": {
        "id": "vUpsJFcMA8uA",
        "colab_type": "code",
        "colab": {},
        "outputId": "894334bb-b122-494d-9d37-2808bed70d72"
      },
      "source": [
        "print(\"Average (mean) temperature over this period is about {0:.1f}\" .format(junejuly['Mean TemperatureC'].mean()) + \" \" + u'\\u2103.')"
      ],
      "execution_count": 0,
      "outputs": [
        {
          "output_type": "stream",
          "text": [
            "Average (mean) temperature over this period is about 16.3 ℃.\n"
          ],
          "name": "stdout"
        }
      ]
    },
    {
      "cell_type": "markdown",
      "metadata": {
        "id": "AcPGhy5WA8uG",
        "colab_type": "text"
      },
      "source": [
        "The two weeks at the end of June and beginning ofJuly look like the best bet overall, with very little rain (9 totally dry days and only 1 day with significant rainfall (~5 mm on 5th July). Temperatures are also the best of the summer, with an average (mean) temperature of about 16 &deg;C (see calculation above) and five days where the temperatures are between 18 &deg;C and 22 &deg;C."
      ]
    },
    {
      "cell_type": "markdown",
      "metadata": {
        "collapsed": true,
        "id": "VEAP0A9bA8uH",
        "colab_type": "text"
      },
      "source": [
        "## Conclusions\n",
        "\n",
        "The graphs have shown the volatility of a British summer, but a couple of weeks were found when the weather wasn't too bad in Chester in 2015. Of course this is no guarantee that the weather pattern will repeat itself in future years. To make a sensible prediction we would need to analyse the summers for many more years."
      ]
    },
    {
      "cell_type": "markdown",
      "metadata": {
        "id": "t4Ja_mM2A8uK",
        "colab_type": "text"
      },
      "source": [
        "<a href=\"#Top\"><img style=\"display:inline\" src=\"http://www.abdn.ac.uk/global/images/layout/to_top_arrow.gif\">Top of page</a>"
      ]
    },
    {
      "cell_type": "code",
      "metadata": {
        "id": "zMy_sTspA8uL",
        "colab_type": "code",
        "colab": {},
        "outputId": "524e70c8-244e-4f86-de61-a819ec2bb180"
      },
      "source": [
        "print(\"\\nPandas version\", pandas.__version__, end=\"\")"
      ],
      "execution_count": 0,
      "outputs": [
        {
          "output_type": "stream",
          "text": [
            "\n",
            "Pandas version 0.16.2"
          ],
          "name": "stdout"
        }
      ]
    },
    {
      "cell_type": "code",
      "metadata": {
        "id": "hjn-a-CyA8uT",
        "colab_type": "code",
        "colab": {},
        "outputId": "91b5afb7-a49e-45ff-ffde-681125975b55"
      },
      "source": [
        "from IPython.display import HTML\n",
        "HTML('''<script> \n",
        "code_show=false; \n",
        "function code_toggle() { \n",
        "if (code_show){ \n",
        "$('div.input').hide(); \n",
        "} else { \n",
        "$('div.input').show(); \n",
        "} \n",
        "code_show = !code_show \n",
        "location.href=\"#Top\"; <!-- Jump back to #Top of the notebook window after an error-free Run All -->\n",
        "} \n",
        "$( document ).ready(code_toggle); \n",
        "</script> \n",
        "<p class=\"do_not_print\" style=\"display:inline\"><center>Click <a href=\"javascript:code_toggle()\">here</a> to toggle code visibility on/off</center></p>''')"
      ],
      "execution_count": 0,
      "outputs": [
        {
          "output_type": "execute_result",
          "data": {
            "text/html": [
              "<script> \n",
              "code_show=false; \n",
              "function code_toggle() { \n",
              "if (code_show){ \n",
              "$('div.input').hide(); \n",
              "} else { \n",
              "$('div.input').show(); \n",
              "} \n",
              "code_show = !code_show \n",
              "location.href=\"#Top\"; <!-- Jump back to #Top of the notebook window after an error-free Run All -->\n",
              "} \n",
              "$( document ).ready(code_toggle); \n",
              "</script> \n",
              "<p class=\"do_not_print\" style=\"display:inline\"><center>Click <a href=\"javascript:code_toggle()\">here</a> to toggle code visibility on/off</center></p>"
            ],
            "text/plain": [
              "<IPython.core.display.HTML object>"
            ]
          },
          "metadata": {
            "tags": []
          },
          "execution_count": 15
        }
      ]
    },
    {
      "cell_type": "code",
      "metadata": {
        "id": "C2z3NtE1A8ua",
        "colab_type": "code",
        "colab": {}
      },
      "source": [
        ""
      ],
      "execution_count": 0,
      "outputs": []
    }
  ]
}