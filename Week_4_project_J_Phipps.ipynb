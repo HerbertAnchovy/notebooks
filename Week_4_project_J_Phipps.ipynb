{
  "nbformat": 4,
  "nbformat_minor": 0,
  "metadata": {
    "colab": {
      "name": "Week_4_project_J_Phipps.ipynb",
      "version": "0.3.2",
      "provenance": [],
      "collapsed_sections": [],
      "include_colab_link": true
    },
    "language_info": {
      "codemirror_mode": {
        "name": "ipython",
        "version": 3
      },
      "file_extension": ".py",
      "mimetype": "text/x-python",
      "name": "python",
      "nbconvert_exporter": "python",
      "pygments_lexer": "ipython3",
      "version": "3.4.3+"
    },
    "kernelspec": {
      "display_name": "Python 3",
      "language": "python",
      "name": "python3"
    }
  },
  "cells": [
    {
      "cell_type": "markdown",
      "metadata": {
        "id": "view-in-github",
        "colab_type": "text"
      },
      "source": [
        "<a href=\"https://colab.research.google.com/github/HerbertAnchovy/notebooks/blob/master/Week_4_project_J_Phipps.ipynb\" target=\"_parent\"><img src=\"https://colab.research.google.com/assets/colab-badge.svg\" alt=\"Open In Colab\"/></a>"
      ]
    },
    {
      "cell_type": "markdown",
      "metadata": {
        "id": "kyegqQKsCrAD",
        "colab_type": "text"
      },
      "source": [
        "<div>\n",
        "<a id=\"Top\"></a>\n",
        "<img style=\"float: left;\" src=\"https://msds.open.ac.uk/includes/oulogo_hor_75x55.gif\">&nbsp;&nbsp;&nbsp;\n",
        "</div>\n",
        "<br/>\n",
        "<br/>\n",
        "\n",
        "## Project 4: Exploring the UK's hop-based product imports and exports\n",
        "\n",
        "#### produced by [Jez Phipps](https://www.futurelearn.com/profiles/3841612) on 7<sup>th</sup> November 2016.\n",
        "\n",
        "This is my project notebook for Week 4 of The Open University's [_Learn to Code for Data Analysis_](http://futurelearn.com/courses/learn-to-code) course."
      ]
    },
    {
      "cell_type": "markdown",
      "metadata": {
        "id": "GODA9bnZCrAF",
        "colab_type": "text"
      },
      "source": [
        "A country's economy depends, sometimes heavily, on its exports and imports. The United Nations Comtrade database provides data on global trade. It will be used to analyse the UK's imports and exports of three hop-based products (see commodity descriptors below) in 2014:\n",
        "\n",
        "- How much does the UK export and import and is the balance positive (more exports than imports)? \n",
        "- Which are the main trading partners, i.e. from/to which countries does the UK import/export the most?\n",
        "- Which are the regular customers, i.e. which countries buy the products from the UK every month?\n",
        "- Which countries does the UK both import from and export to?"
      ]
    },
    {
      "cell_type": "code",
      "metadata": {
        "id": "tYu2V9FTCrAH",
        "colab_type": "code",
        "outputId": "e3913af6-7983-42e5-8559-5128c59d5bd0",
        "colab": {
          "base_uri": "https://localhost:8080/",
          "height": 34
        }
      },
      "source": [
        "from IPython.display import display, HTML\n",
        "HTML('''Note: <p style=\"display:inline;color:darkred;\">Option to toggle code visibility on/off is at <a href=\"#Bottom\">bottom</a> of page.</p>''')"
      ],
      "execution_count": 0,
      "outputs": [
        {
          "output_type": "execute_result",
          "data": {
            "text/html": [
              "Note: <p style=\"display:inline;color:darkred;\">Option to toggle code visibility on/off is at <a href=\"#Bottom\">bottom</a> of page.</p>"
            ],
            "text/plain": [
              "<IPython.core.display.HTML object>"
            ]
          },
          "metadata": {
            "tags": []
          },
          "execution_count": 69
        }
      ]
    },
    {
      "cell_type": "code",
      "metadata": {
        "activity": false,
        "id": "9bv_hfY2CrAQ",
        "colab_type": "code",
        "colab": {}
      },
      "source": [
        "import warnings\n",
        "warnings.simplefilter('ignore', FutureWarning)\n",
        "\n",
        "from pandas import *\n",
        "%matplotlib inline"
      ],
      "execution_count": 0,
      "outputs": []
    },
    {
      "cell_type": "markdown",
      "metadata": {
        "id": "_1wqk8ufCrAU",
        "colab_type": "text"
      },
      "source": [
        "## Getting and preparing the data\n",
        "\n",
        "The data is obtained from the [United Nations Comtrade](http://comtrade.un.org/data/) website, by selecting the following configuration:\n",
        "\n",
        "- Type of Product: goods\n",
        "- Frequency: monthly \n",
        "- Periods: All of 2014\n",
        "- Reporter: United Kingdom\n",
        "- Partners: all\n",
        "- Flows: imports and exports\n",
        "- HS (as reported) commodity codes: **1210** (Hop cones, fresh or dried, lupulin), **121010** (Hop cones, not ground, powdered or pelleted), **130213** (Hop extract)\n",
        "\n",
        "Clicking on 'Preview' results in a message that the data exceeds 500 rows. Data was downloaded using the *Download CSV* button and the download file renamed appropriately."
      ]
    },
    {
      "cell_type": "markdown",
      "metadata": {
        "id": "xZsUlpV1CrAa",
        "colab_type": "text"
      },
      "source": [
        "The data can also be downloaded directly from Comtrade using the \"View API Call\" URL, modified in two ways:\n",
        "\n",
        "- `max=500` is increased to `max=5000` to make sure all data is loaded,\n",
        "- `&fmt=csv` is added at the end to obtain the data in CSV format."
      ]
    },
    {
      "cell_type": "code",
      "metadata": {
        "id": "EkrZsVzBCrAb",
        "colab_type": "code",
        "colab": {}
      },
      "source": [
        "LOCATION = 'http://comtrade.un.org/api/get?max=5000&type=C&freq=M&px=HS&ps=2014&r=826&p=all&rg=1%2C2&cc=1210%2C121010%2C130213&fmt=csv'"
      ],
      "execution_count": 0,
      "outputs": []
    },
    {
      "cell_type": "markdown",
      "metadata": {
        "id": "lt6c28IgCrAf",
        "colab_type": "text"
      },
      "source": [
        "On reading in the data, the commodity code has to be read as a string to ensure we do not lose the leading zeroes."
      ]
    },
    {
      "cell_type": "code",
      "metadata": {
        "activity": false,
        "id": "_T1kr_rQCrAg",
        "colab_type": "code",
        "outputId": "cfbb35cd-06f9-43c6-9f68-135cd321ae00",
        "colab": {
          "base_uri": "https://localhost:8080/",
          "height": 530
        }
      },
      "source": [
        "hops = read_csv(LOCATION, dtype={'Commodity Code':str})\n",
        "hops.tail()"
      ],
      "execution_count": 0,
      "outputs": [
        {
          "output_type": "execute_result",
          "data": {
            "text/html": [
              "<div>\n",
              "<style scoped>\n",
              "    .dataframe tbody tr th:only-of-type {\n",
              "        vertical-align: middle;\n",
              "    }\n",
              "\n",
              "    .dataframe tbody tr th {\n",
              "        vertical-align: top;\n",
              "    }\n",
              "\n",
              "    .dataframe thead th {\n",
              "        text-align: right;\n",
              "    }\n",
              "</style>\n",
              "<table border=\"1\" class=\"dataframe\">\n",
              "  <thead>\n",
              "    <tr style=\"text-align: right;\">\n",
              "      <th></th>\n",
              "      <th>Classification</th>\n",
              "      <th>Year</th>\n",
              "      <th>Period</th>\n",
              "      <th>Period Desc.</th>\n",
              "      <th>Aggregate Level</th>\n",
              "      <th>Is Leaf Code</th>\n",
              "      <th>Trade Flow Code</th>\n",
              "      <th>Trade Flow</th>\n",
              "      <th>Reporter Code</th>\n",
              "      <th>Reporter</th>\n",
              "      <th>Reporter ISO</th>\n",
              "      <th>Partner Code</th>\n",
              "      <th>Partner</th>\n",
              "      <th>Partner ISO</th>\n",
              "      <th>2nd Partner Code</th>\n",
              "      <th>2nd Partner</th>\n",
              "      <th>2nd Partner ISO</th>\n",
              "      <th>Customs Proc. Code</th>\n",
              "      <th>Customs</th>\n",
              "      <th>Mode of Transport Code</th>\n",
              "      <th>Mode of Transport</th>\n",
              "      <th>Commodity Code</th>\n",
              "      <th>Commodity</th>\n",
              "      <th>Qty Unit Code</th>\n",
              "      <th>Qty Unit</th>\n",
              "      <th>Qty</th>\n",
              "      <th>Alt Qty Unit Code</th>\n",
              "      <th>Alt Qty Unit</th>\n",
              "      <th>Alt Qty</th>\n",
              "      <th>Netweight (kg)</th>\n",
              "      <th>Gross weight (kg)</th>\n",
              "      <th>Trade Value (US$)</th>\n",
              "      <th>CIF Trade Value (US$)</th>\n",
              "      <th>FOB Trade Value (US$)</th>\n",
              "      <th>Flag</th>\n",
              "    </tr>\n",
              "  </thead>\n",
              "  <tbody>\n",
              "    <tr>\n",
              "      <th>1042</th>\n",
              "      <td>HS</td>\n",
              "      <td>2014</td>\n",
              "      <td>201411</td>\n",
              "      <td>November 2014</td>\n",
              "      <td>6</td>\n",
              "      <td>1</td>\n",
              "      <td>1</td>\n",
              "      <td>Imports</td>\n",
              "      <td>826</td>\n",
              "      <td>United Kingdom</td>\n",
              "      <td>NaN</td>\n",
              "      <td>56</td>\n",
              "      <td>Belgium</td>\n",
              "      <td>NaN</td>\n",
              "      <td>NaN</td>\n",
              "      <td>NaN</td>\n",
              "      <td>NaN</td>\n",
              "      <td>NaN</td>\n",
              "      <td>NaN</td>\n",
              "      <td>NaN</td>\n",
              "      <td>NaN</td>\n",
              "      <td>130213</td>\n",
              "      <td>Vegetable saps and extracts; of hops</td>\n",
              "      <td>NaN</td>\n",
              "      <td>NaN</td>\n",
              "      <td>NaN</td>\n",
              "      <td>NaN</td>\n",
              "      <td>NaN</td>\n",
              "      <td>NaN</td>\n",
              "      <td>3019</td>\n",
              "      <td>NaN</td>\n",
              "      <td>245410</td>\n",
              "      <td>NaN</td>\n",
              "      <td>NaN</td>\n",
              "      <td>0</td>\n",
              "    </tr>\n",
              "    <tr>\n",
              "      <th>1043</th>\n",
              "      <td>HS</td>\n",
              "      <td>2014</td>\n",
              "      <td>201411</td>\n",
              "      <td>November 2014</td>\n",
              "      <td>6</td>\n",
              "      <td>1</td>\n",
              "      <td>1</td>\n",
              "      <td>Imports</td>\n",
              "      <td>826</td>\n",
              "      <td>United Kingdom</td>\n",
              "      <td>NaN</td>\n",
              "      <td>156</td>\n",
              "      <td>China</td>\n",
              "      <td>NaN</td>\n",
              "      <td>NaN</td>\n",
              "      <td>NaN</td>\n",
              "      <td>NaN</td>\n",
              "      <td>NaN</td>\n",
              "      <td>NaN</td>\n",
              "      <td>NaN</td>\n",
              "      <td>NaN</td>\n",
              "      <td>130213</td>\n",
              "      <td>Vegetable saps and extracts; of hops</td>\n",
              "      <td>NaN</td>\n",
              "      <td>NaN</td>\n",
              "      <td>NaN</td>\n",
              "      <td>NaN</td>\n",
              "      <td>NaN</td>\n",
              "      <td>NaN</td>\n",
              "      <td>100</td>\n",
              "      <td>NaN</td>\n",
              "      <td>6683</td>\n",
              "      <td>NaN</td>\n",
              "      <td>NaN</td>\n",
              "      <td>0</td>\n",
              "    </tr>\n",
              "    <tr>\n",
              "      <th>1044</th>\n",
              "      <td>HS</td>\n",
              "      <td>2014</td>\n",
              "      <td>201411</td>\n",
              "      <td>November 2014</td>\n",
              "      <td>6</td>\n",
              "      <td>1</td>\n",
              "      <td>1</td>\n",
              "      <td>Imports</td>\n",
              "      <td>826</td>\n",
              "      <td>United Kingdom</td>\n",
              "      <td>NaN</td>\n",
              "      <td>826</td>\n",
              "      <td>United Kingdom</td>\n",
              "      <td>NaN</td>\n",
              "      <td>NaN</td>\n",
              "      <td>NaN</td>\n",
              "      <td>NaN</td>\n",
              "      <td>NaN</td>\n",
              "      <td>NaN</td>\n",
              "      <td>NaN</td>\n",
              "      <td>NaN</td>\n",
              "      <td>130213</td>\n",
              "      <td>Vegetable saps and extracts; of hops</td>\n",
              "      <td>NaN</td>\n",
              "      <td>NaN</td>\n",
              "      <td>NaN</td>\n",
              "      <td>NaN</td>\n",
              "      <td>NaN</td>\n",
              "      <td>NaN</td>\n",
              "      <td>213</td>\n",
              "      <td>NaN</td>\n",
              "      <td>3752</td>\n",
              "      <td>NaN</td>\n",
              "      <td>NaN</td>\n",
              "      <td>0</td>\n",
              "    </tr>\n",
              "    <tr>\n",
              "      <th>1045</th>\n",
              "      <td>HS</td>\n",
              "      <td>2014</td>\n",
              "      <td>201411</td>\n",
              "      <td>November 2014</td>\n",
              "      <td>6</td>\n",
              "      <td>1</td>\n",
              "      <td>1</td>\n",
              "      <td>Imports</td>\n",
              "      <td>826</td>\n",
              "      <td>United Kingdom</td>\n",
              "      <td>NaN</td>\n",
              "      <td>842</td>\n",
              "      <td>United States of America</td>\n",
              "      <td>NaN</td>\n",
              "      <td>NaN</td>\n",
              "      <td>NaN</td>\n",
              "      <td>NaN</td>\n",
              "      <td>NaN</td>\n",
              "      <td>NaN</td>\n",
              "      <td>NaN</td>\n",
              "      <td>NaN</td>\n",
              "      <td>130213</td>\n",
              "      <td>Vegetable saps and extracts; of hops</td>\n",
              "      <td>NaN</td>\n",
              "      <td>NaN</td>\n",
              "      <td>NaN</td>\n",
              "      <td>NaN</td>\n",
              "      <td>NaN</td>\n",
              "      <td>NaN</td>\n",
              "      <td>88730</td>\n",
              "      <td>NaN</td>\n",
              "      <td>2427012</td>\n",
              "      <td>NaN</td>\n",
              "      <td>NaN</td>\n",
              "      <td>0</td>\n",
              "    </tr>\n",
              "    <tr>\n",
              "      <th>1046</th>\n",
              "      <td>HS</td>\n",
              "      <td>2014</td>\n",
              "      <td>201411</td>\n",
              "      <td>November 2014</td>\n",
              "      <td>6</td>\n",
              "      <td>1</td>\n",
              "      <td>1</td>\n",
              "      <td>Imports</td>\n",
              "      <td>826</td>\n",
              "      <td>United Kingdom</td>\n",
              "      <td>NaN</td>\n",
              "      <td>724</td>\n",
              "      <td>Spain</td>\n",
              "      <td>NaN</td>\n",
              "      <td>NaN</td>\n",
              "      <td>NaN</td>\n",
              "      <td>NaN</td>\n",
              "      <td>NaN</td>\n",
              "      <td>NaN</td>\n",
              "      <td>NaN</td>\n",
              "      <td>NaN</td>\n",
              "      <td>130213</td>\n",
              "      <td>Vegetable saps and extracts; of hops</td>\n",
              "      <td>NaN</td>\n",
              "      <td>NaN</td>\n",
              "      <td>NaN</td>\n",
              "      <td>NaN</td>\n",
              "      <td>NaN</td>\n",
              "      <td>NaN</td>\n",
              "      <td>25</td>\n",
              "      <td>NaN</td>\n",
              "      <td>1989</td>\n",
              "      <td>NaN</td>\n",
              "      <td>NaN</td>\n",
              "      <td>0</td>\n",
              "    </tr>\n",
              "  </tbody>\n",
              "</table>\n",
              "</div>"
            ],
            "text/plain": [
              "     Classification  Year  ...  FOB Trade Value (US$) Flag\n",
              "1042             HS  2014  ...                    NaN    0\n",
              "1043             HS  2014  ...                    NaN    0\n",
              "1044             HS  2014  ...                    NaN    0\n",
              "1045             HS  2014  ...                    NaN    0\n",
              "1046             HS  2014  ...                    NaN    0\n",
              "\n",
              "[5 rows x 35 columns]"
            ]
          },
          "metadata": {
            "tags": []
          },
          "execution_count": 73
        }
      ]
    },
    {
      "cell_type": "markdown",
      "metadata": {
        "id": "pnQTaYZgCrAn",
        "colab_type": "text"
      },
      "source": [
        "Most columns are irrelevant for this analysis, or contain always the same value, like the year and reporter columns. The commodity code is transformed into a short but descriptive text and only the relevant columns are selected."
      ]
    },
    {
      "cell_type": "code",
      "metadata": {
        "activity": false,
        "id": "eoywyEQuCrAo",
        "colab_type": "code",
        "outputId": "d493c6a5-33b8-42df-8fd1-acbf474f8204",
        "colab": {
          "base_uri": "https://localhost:8080/",
          "height": 204
        }
      },
      "source": [
        "def hopsType(code):\n",
        "    if code == '1210':   # Hop cones, fresh or dried, lupulin\n",
        "        return 'cones_1'\n",
        "    if code == '121010': # Hop cones, not ground, powdered or pelleted\n",
        "        return 'cones_2'\n",
        "    if code == '130213': # Hop extract\n",
        "        return 'extract' \n",
        "    return 'unknown'\n",
        "\n",
        "COMMODITY = 'Hop-based products'\n",
        "hops[COMMODITY] = hops['Commodity Code'].apply(hopsType)\n",
        "MONTH = 'Period'\n",
        "PARTNER = 'Partner'\n",
        "FLOW = 'Trade Flow'\n",
        "VALUE = 'Trade Value (US$)'\n",
        "headings = [MONTH, PARTNER, FLOW, COMMODITY, VALUE]\n",
        "hops = hops[headings]\n",
        "hops.head()"
      ],
      "execution_count": 0,
      "outputs": [
        {
          "output_type": "execute_result",
          "data": {
            "text/html": [
              "<div>\n",
              "<style scoped>\n",
              "    .dataframe tbody tr th:only-of-type {\n",
              "        vertical-align: middle;\n",
              "    }\n",
              "\n",
              "    .dataframe tbody tr th {\n",
              "        vertical-align: top;\n",
              "    }\n",
              "\n",
              "    .dataframe thead th {\n",
              "        text-align: right;\n",
              "    }\n",
              "</style>\n",
              "<table border=\"1\" class=\"dataframe\">\n",
              "  <thead>\n",
              "    <tr style=\"text-align: right;\">\n",
              "      <th></th>\n",
              "      <th>Period</th>\n",
              "      <th>Partner</th>\n",
              "      <th>Trade Flow</th>\n",
              "      <th>Hop-based products</th>\n",
              "      <th>Trade Value (US$)</th>\n",
              "    </tr>\n",
              "  </thead>\n",
              "  <tbody>\n",
              "    <tr>\n",
              "      <th>0</th>\n",
              "      <td>201403</td>\n",
              "      <td>World</td>\n",
              "      <td>Imports</td>\n",
              "      <td>cones_2</td>\n",
              "      <td>1499720</td>\n",
              "    </tr>\n",
              "    <tr>\n",
              "      <th>1</th>\n",
              "      <td>201403</td>\n",
              "      <td>Germany</td>\n",
              "      <td>Imports</td>\n",
              "      <td>cones_2</td>\n",
              "      <td>10883</td>\n",
              "    </tr>\n",
              "    <tr>\n",
              "      <th>2</th>\n",
              "      <td>201403</td>\n",
              "      <td>France</td>\n",
              "      <td>Imports</td>\n",
              "      <td>cones_2</td>\n",
              "      <td>1001153</td>\n",
              "    </tr>\n",
              "    <tr>\n",
              "      <th>3</th>\n",
              "      <td>201403</td>\n",
              "      <td>Poland</td>\n",
              "      <td>Imports</td>\n",
              "      <td>cones_2</td>\n",
              "      <td>16060</td>\n",
              "    </tr>\n",
              "    <tr>\n",
              "      <th>4</th>\n",
              "      <td>201403</td>\n",
              "      <td>Slovenia</td>\n",
              "      <td>Imports</td>\n",
              "      <td>cones_2</td>\n",
              "      <td>75782</td>\n",
              "    </tr>\n",
              "  </tbody>\n",
              "</table>\n",
              "</div>"
            ],
            "text/plain": [
              "   Period   Partner Trade Flow Hop-based products  Trade Value (US$)\n",
              "0  201403     World    Imports            cones_2            1499720\n",
              "1  201403   Germany    Imports            cones_2              10883\n",
              "2  201403    France    Imports            cones_2            1001153\n",
              "3  201403    Poland    Imports            cones_2              16060\n",
              "4  201403  Slovenia    Imports            cones_2              75782"
            ]
          },
          "metadata": {
            "tags": []
          },
          "execution_count": 74
        }
      ]
    },
    {
      "cell_type": "markdown",
      "metadata": {
        "id": "Gf7W3VKMCrAt",
        "colab_type": "text"
      },
      "source": [
        "The data contains the total imports and exports per month, under the 'World' partner. Those rows are removed to keep only the per-country data."
      ]
    },
    {
      "cell_type": "code",
      "metadata": {
        "activity": false,
        "id": "TsvnIZHICrAu",
        "colab_type": "code",
        "outputId": "0af57c23-9ef8-4da8-89ad-6da28b28f7d3",
        "colab": {
          "base_uri": "https://localhost:8080/",
          "height": 204
        }
      },
      "source": [
        "hops = hops[hops[PARTNER] != 'World']\n",
        "hops.head()"
      ],
      "execution_count": 0,
      "outputs": [
        {
          "output_type": "execute_result",
          "data": {
            "text/html": [
              "<div>\n",
              "<style scoped>\n",
              "    .dataframe tbody tr th:only-of-type {\n",
              "        vertical-align: middle;\n",
              "    }\n",
              "\n",
              "    .dataframe tbody tr th {\n",
              "        vertical-align: top;\n",
              "    }\n",
              "\n",
              "    .dataframe thead th {\n",
              "        text-align: right;\n",
              "    }\n",
              "</style>\n",
              "<table border=\"1\" class=\"dataframe\">\n",
              "  <thead>\n",
              "    <tr style=\"text-align: right;\">\n",
              "      <th></th>\n",
              "      <th>Period</th>\n",
              "      <th>Partner</th>\n",
              "      <th>Trade Flow</th>\n",
              "      <th>Hop-based products</th>\n",
              "      <th>Trade Value (US$)</th>\n",
              "    </tr>\n",
              "  </thead>\n",
              "  <tbody>\n",
              "    <tr>\n",
              "      <th>1</th>\n",
              "      <td>201403</td>\n",
              "      <td>Germany</td>\n",
              "      <td>Imports</td>\n",
              "      <td>cones_2</td>\n",
              "      <td>10883</td>\n",
              "    </tr>\n",
              "    <tr>\n",
              "      <th>2</th>\n",
              "      <td>201403</td>\n",
              "      <td>France</td>\n",
              "      <td>Imports</td>\n",
              "      <td>cones_2</td>\n",
              "      <td>1001153</td>\n",
              "    </tr>\n",
              "    <tr>\n",
              "      <th>3</th>\n",
              "      <td>201403</td>\n",
              "      <td>Poland</td>\n",
              "      <td>Imports</td>\n",
              "      <td>cones_2</td>\n",
              "      <td>16060</td>\n",
              "    </tr>\n",
              "    <tr>\n",
              "      <th>4</th>\n",
              "      <td>201403</td>\n",
              "      <td>Slovenia</td>\n",
              "      <td>Imports</td>\n",
              "      <td>cones_2</td>\n",
              "      <td>75782</td>\n",
              "    </tr>\n",
              "    <tr>\n",
              "      <th>5</th>\n",
              "      <td>201403</td>\n",
              "      <td>United States of America</td>\n",
              "      <td>Imports</td>\n",
              "      <td>cones_2</td>\n",
              "      <td>395841</td>\n",
              "    </tr>\n",
              "  </tbody>\n",
              "</table>\n",
              "</div>"
            ],
            "text/plain": [
              "   Period                   Partner  ... Hop-based products Trade Value (US$)\n",
              "1  201403                   Germany  ...            cones_2             10883\n",
              "2  201403                    France  ...            cones_2           1001153\n",
              "3  201403                    Poland  ...            cones_2             16060\n",
              "4  201403                  Slovenia  ...            cones_2             75782\n",
              "5  201403  United States of America  ...            cones_2            395841\n",
              "\n",
              "[5 rows x 5 columns]"
            ]
          },
          "metadata": {
            "tags": []
          },
          "execution_count": 75
        }
      ]
    },
    {
      "cell_type": "code",
      "metadata": {
        "id": "rJyQd01zCrAz",
        "colab_type": "code",
        "outputId": "b50a3fb3-b65f-42ee-cc9f-8abb0ff2ffe0",
        "colab": {
          "base_uri": "https://localhost:8080/",
          "height": 51
        }
      },
      "source": [
        "print(\"\\nNote: The UK trade partners consist of \" + str(len(hops['Partner'].unique())) + \" different countries.\")"
      ],
      "execution_count": 0,
      "outputs": [
        {
          "output_type": "stream",
          "text": [
            "\n",
            "Note: The UK trade partners consist of 74 different countries.\n"
          ],
          "name": "stdout"
        }
      ]
    },
    {
      "cell_type": "markdown",
      "metadata": {
        "id": "uvXw2zzkCrA6",
        "colab_type": "text"
      },
      "source": [
        "## Total trade flow\n",
        "\n",
        "To answer the first question, **'How much does the UK export and import and is the balance positive (more exports than imports)?'**,\n",
        "the dataframe is split into two groups: exports from the UK and imports into the UK. The  trade values within each group are summed up to get the total trading."
      ]
    },
    {
      "cell_type": "code",
      "metadata": {
        "activity": false,
        "id": "lX4PvBbACrA8",
        "colab_type": "code",
        "outputId": "2799afa0-c504-40ef-ae95-830906ed3f7f",
        "colab": {
          "base_uri": "https://localhost:8080/",
          "height": 85
        }
      },
      "source": [
        "grouped = hops.groupby([FLOW])\n",
        "hops_flow_totals = grouped[VALUE].aggregate(sum)\n",
        "hops_flow_totals"
      ],
      "execution_count": 0,
      "outputs": [
        {
          "output_type": "execute_result",
          "data": {
            "text/plain": [
              "Trade Flow\n",
              "Exports    59473468\n",
              "Imports    91270334\n",
              "Name: Trade Value (US$), dtype: int64"
            ]
          },
          "metadata": {
            "tags": []
          },
          "execution_count": 77
        }
      ]
    },
    {
      "cell_type": "code",
      "metadata": {
        "id": "37GCcGavCrBB",
        "colab_type": "code",
        "outputId": "17b63da8-032b-4a96-ac8a-1d7b6c57864b",
        "colab": {
          "base_uri": "https://localhost:8080/",
          "height": 34
        }
      },
      "source": [
        "def roundToMillions (value):\n",
        "    return round((value / 1000000),1)\n",
        "\n",
        "# Let's get the trade surplus:\n",
        "surplus = hops_flow_totals['Imports'] - hops_flow_totals['Exports']\n",
        "print(\"This shows a trade surplus of about \" + str(roundToMillions(surplus)) + \" million US$.\")"
      ],
      "execution_count": 0,
      "outputs": [
        {
          "output_type": "stream",
          "text": [
            "This shows a trade surplus of about 31.8 million US$.\n"
          ],
          "name": "stdout"
        }
      ]
    },
    {
      "cell_type": "markdown",
      "metadata": {
        "id": "AmwUZ6c9CrBG",
        "colab_type": "text"
      },
      "source": [
        "## Main trade partners\n",
        "\n",
        "To address the second question, **'Which are the main trading partners, i.e. from/to which countries does the UK import/export the most?'**, the dataframe is split by country instead, and then each group aggregated for the total trade value. This is done separately for imports and exports. The result is sorted in descending order so that the main partners are at the top."
      ]
    },
    {
      "cell_type": "code",
      "metadata": {
        "activity": false,
        "id": "S_Tk9v3sCrBH",
        "colab_type": "code",
        "outputId": "7637f789-e808-4aac-8915-2d0fe97919e6",
        "colab": {
          "base_uri": "https://localhost:8080/",
          "height": 170
        }
      },
      "source": [
        "imports = hops[hops[FLOW] == 'Imports']\n",
        "grouped = imports.groupby([PARTNER])\n",
        "print('The UK imports from', len(grouped), 'countries.')\n",
        "print('The 5 biggest exporters to the UK are:')\n",
        "totalImports = grouped[VALUE].aggregate(sum).sort_values(inplace=False,ascending=False)\n",
        "totalImports.head()"
      ],
      "execution_count": 0,
      "outputs": [
        {
          "output_type": "stream",
          "text": [
            "The UK imports from 19 countries.\n",
            "The 5 biggest exporters to the UK are:\n"
          ],
          "name": "stdout"
        },
        {
          "output_type": "execute_result",
          "data": {
            "text/plain": [
              "Partner\n",
              "United States of America    39915608\n",
              "Germany                     17281076\n",
              "France                       9413829\n",
              "Belgium                      8874391\n",
              "Slovenia                     6092866\n",
              "Name: Trade Value (US$), dtype: int64"
            ]
          },
          "metadata": {
            "tags": []
          },
          "execution_count": 79
        }
      ]
    },
    {
      "cell_type": "markdown",
      "metadata": {
        "id": "ojlFUpKXCrBM",
        "colab_type": "text"
      },
      "source": [
        "The export values can be plotted as a bar chart, making differences between countries easier to see."
      ]
    },
    {
      "cell_type": "code",
      "metadata": {
        "id": "lRItfVwXCrBN",
        "colab_type": "code",
        "outputId": "eb09020d-0e40-40e2-94b9-66ec6cff24c1",
        "colab": {
          "base_uri": "https://localhost:8080/",
          "height": 299
        }
      },
      "source": [
        "totalImports.head(10).plot(kind='barh')"
      ],
      "execution_count": 0,
      "outputs": [
        {
          "output_type": "execute_result",
          "data": {
            "text/plain": [
              "<matplotlib.axes._subplots.AxesSubplot at 0x7f01cd7f6908>"
            ]
          },
          "metadata": {
            "tags": []
          },
          "execution_count": 80
        },
        {
          "output_type": "display_data",
          "data": {
            "image/png": "[encoded data removed]",
            "text/plain": [
              "<Figure size 432x288 with 1 Axes>"
            ]
          },
          "metadata": {
            "tags": []
          }
        }
      ]
    },
    {
      "cell_type": "code",
      "metadata": {
        "activity": false,
        "id": "wsqwywO1CrBV",
        "colab_type": "code",
        "outputId": "a0368c7a-978e-4aad-ab44-e71792eaaca4",
        "colab": {
          "base_uri": "https://localhost:8080/",
          "height": 170
        }
      },
      "source": [
        "exports = hops[hops[FLOW] == 'Exports']\n",
        "grouped = exports.groupby([PARTNER])\n",
        "print('The UK exports to', len(grouped), 'countries.')\n",
        "print('The 5 biggest importers from the UK are:')\n",
        "totalExports = grouped[VALUE].aggregate(sum).sort_values(ascending=False).head()\n",
        "totalExports.head()"
      ],
      "execution_count": 0,
      "outputs": [
        {
          "output_type": "stream",
          "text": [
            "The UK exports to 72 countries.\n",
            "The 5 biggest importers from the UK are:\n"
          ],
          "name": "stdout"
        },
        {
          "output_type": "execute_result",
          "data": {
            "text/plain": [
              "Partner\n",
              "United States of America    9431078\n",
              "Germany                     9158415\n",
              "Nigeria                     6862093\n",
              "Belgium                     5664460\n",
              "Brazil                      4700374\n",
              "Name: Trade Value (US$), dtype: int64"
            ]
          },
          "metadata": {
            "tags": []
          },
          "execution_count": 81
        }
      ]
    },
    {
      "cell_type": "code",
      "metadata": {
        "id": "mH-FNbCFCrBc",
        "colab_type": "code",
        "outputId": "83b04895-cec2-46d4-bcd5-191db422dabc",
        "colab": {
          "base_uri": "https://localhost:8080/",
          "height": 68
        }
      },
      "source": [
        "i = totalImports.head(1)[0]\n",
        "i = str(roundToMillions(i))\n",
        "e = totalExports.head(1)[0]\n",
        "e = str(roundToMillions(e))\n",
        "\n",
        "print(\"The above clearly shows that the U.S. is our largest partner.\")\n",
        "print(\"However, our imports from the U.S. are about \" + i + \" million US$ and our exports are about \" + e + \" million US$.\")\n",
        "balance_of_trade = (totalExports.head(1)[0]) - (totalImports.head(1)[0]) # Country's imports exceed its exports.\n",
        "print(\"Consequently, the balance of trade is about \" + str(roundToMillions(balance_of_trade)) + \" million US$.\")"
      ],
      "execution_count": 0,
      "outputs": [
        {
          "output_type": "stream",
          "text": [
            "The above clearly shows that the U.S. is our largest partner.\n",
            "However, our imports from the U.S. are about 39.9 million US$ and our exports are about 9.4 million US$.\n",
            "Consequently, the balance of trade is about -30.5 million US$.\n"
          ],
          "name": "stdout"
        }
      ]
    },
    {
      "cell_type": "markdown",
      "metadata": {
        "id": "rqCoiMR1CrBi",
        "colab_type": "text"
      },
      "source": [
        "## Regular importers\n",
        "\n",
        "Given that there are three commodities, the third question, **'Which are the regular customers, i.e. which countries buy hop-based exports from the UK every month?'**, is meant in the sense that a regular customer buys (imports) _all three commodities every month._ This means that if the exports dataframe is grouped by country, each group has exactly 36 rows (three commodities bought each of the 12 months). To see the countries, only the first month of one commodity has to be listed, as by definition it's the same countries every month and for the other commodity."
      ]
    },
    {
      "cell_type": "code",
      "metadata": {
        "activity": false,
        "id": "bxwVjyvECrBk",
        "colab_type": "code",
        "outputId": "30bf5de6-b9ac-4d3e-d6d6-0489fbff063a",
        "colab": {
          "base_uri": "https://localhost:8080/",
          "height": 111
        }
      },
      "source": [
        "def buysEveryMonth(group):\n",
        "    return len(group) == 36\n",
        "\n",
        "grouped = exports.groupby([PARTNER])\n",
        "regular = grouped.filter(buysEveryMonth)\n",
        "regular = regular[(regular[MONTH] == 201401) & (regular[COMMODITY] == 'extract')]\n",
        "regular"
      ],
      "execution_count": 0,
      "outputs": [
        {
          "output_type": "execute_result",
          "data": {
            "text/html": [
              "<div>\n",
              "<style scoped>\n",
              "    .dataframe tbody tr th:only-of-type {\n",
              "        vertical-align: middle;\n",
              "    }\n",
              "\n",
              "    .dataframe tbody tr th {\n",
              "        vertical-align: top;\n",
              "    }\n",
              "\n",
              "    .dataframe thead th {\n",
              "        text-align: right;\n",
              "    }\n",
              "</style>\n",
              "<table border=\"1\" class=\"dataframe\">\n",
              "  <thead>\n",
              "    <tr style=\"text-align: right;\">\n",
              "      <th></th>\n",
              "      <th>Period</th>\n",
              "      <th>Partner</th>\n",
              "      <th>Trade Flow</th>\n",
              "      <th>Hop-based products</th>\n",
              "      <th>Trade Value (US$)</th>\n",
              "    </tr>\n",
              "  </thead>\n",
              "  <tbody>\n",
              "    <tr>\n",
              "      <th>96</th>\n",
              "      <td>201401</td>\n",
              "      <td>Ireland</td>\n",
              "      <td>Exports</td>\n",
              "      <td>extract</td>\n",
              "      <td>336060</td>\n",
              "    </tr>\n",
              "    <tr>\n",
              "      <th>101</th>\n",
              "      <td>201401</td>\n",
              "      <td>France</td>\n",
              "      <td>Exports</td>\n",
              "      <td>extract</td>\n",
              "      <td>63928</td>\n",
              "    </tr>\n",
              "  </tbody>\n",
              "</table>\n",
              "</div>"
            ],
            "text/plain": [
              "     Period  Partner Trade Flow Hop-based products  Trade Value (US$)\n",
              "96   201401  Ireland    Exports            extract             336060\n",
              "101  201401   France    Exports            extract              63928"
            ]
          },
          "metadata": {
            "tags": []
          },
          "execution_count": 83
        }
      ]
    },
    {
      "cell_type": "code",
      "metadata": {
        "activity": false,
        "id": "kW5b6JD_CrBu",
        "colab_type": "code",
        "outputId": "c3e5193e-725a-4a46-dc3e-b5462e711767",
        "colab": {
          "base_uri": "https://localhost:8080/",
          "height": 34
        }
      },
      "source": [
        "pc=((regular[VALUE].sum() / exports[VALUE].sum())*100)\n",
        "regulars = len(regular)\n",
        "print(\"Approximately \" + str(round(pc,2)) + \"% of the total UK exports are due to the\", regulars ,\"regular customer(s) identified above.\")"
      ],
      "execution_count": 0,
      "outputs": [
        {
          "output_type": "stream",
          "text": [
            "Approximately 0.67% of the total UK exports are due to the 2 regular customer(s) identified above.\n"
          ],
          "name": "stdout"
        }
      ]
    },
    {
      "cell_type": "markdown",
      "metadata": {
        "id": "FJv00dGOCrB2",
        "colab_type": "text"
      },
      "source": [
        "## Bi-directional trade\n",
        "\n",
        "To address the fourth question, \n",
        "**'Which countries does the UK both import from and export to?**', a pivot table is used to list the total export and import value for each country. "
      ]
    },
    {
      "cell_type": "code",
      "metadata": {
        "activity": false,
        "id": "jLpDA3kiCrB3",
        "colab_type": "code",
        "outputId": "d20dcedb-594e-4af8-87d7-489d4841128d",
        "colab": {
          "base_uri": "https://localhost:8080/",
          "height": 235
        }
      },
      "source": [
        "countries = pivot_table(hops, index=[PARTNER], columns=[FLOW], \n",
        "                        values=VALUE, aggfunc=sum)\n",
        "countries.head()"
      ],
      "execution_count": 0,
      "outputs": [
        {
          "output_type": "execute_result",
          "data": {
            "text/html": [
              "<div>\n",
              "<style scoped>\n",
              "    .dataframe tbody tr th:only-of-type {\n",
              "        vertical-align: middle;\n",
              "    }\n",
              "\n",
              "    .dataframe tbody tr th {\n",
              "        vertical-align: top;\n",
              "    }\n",
              "\n",
              "    .dataframe thead th {\n",
              "        text-align: right;\n",
              "    }\n",
              "</style>\n",
              "<table border=\"1\" class=\"dataframe\">\n",
              "  <thead>\n",
              "    <tr style=\"text-align: right;\">\n",
              "      <th>Trade Flow</th>\n",
              "      <th>Exports</th>\n",
              "      <th>Imports</th>\n",
              "    </tr>\n",
              "    <tr>\n",
              "      <th>Partner</th>\n",
              "      <th></th>\n",
              "      <th></th>\n",
              "    </tr>\n",
              "  </thead>\n",
              "  <tbody>\n",
              "    <tr>\n",
              "      <th>Argentina</th>\n",
              "      <td>359284.0</td>\n",
              "      <td>NaN</td>\n",
              "    </tr>\n",
              "    <tr>\n",
              "      <th>Australia</th>\n",
              "      <td>1370282.0</td>\n",
              "      <td>1673828.0</td>\n",
              "    </tr>\n",
              "    <tr>\n",
              "      <th>Austria</th>\n",
              "      <td>1335.0</td>\n",
              "      <td>NaN</td>\n",
              "    </tr>\n",
              "    <tr>\n",
              "      <th>Belarus</th>\n",
              "      <td>110361.0</td>\n",
              "      <td>NaN</td>\n",
              "    </tr>\n",
              "    <tr>\n",
              "      <th>Belgium</th>\n",
              "      <td>5664460.0</td>\n",
              "      <td>8874391.0</td>\n",
              "    </tr>\n",
              "  </tbody>\n",
              "</table>\n",
              "</div>"
            ],
            "text/plain": [
              "Trade Flow    Exports    Imports\n",
              "Partner                         \n",
              "Argentina    359284.0        NaN\n",
              "Australia   1370282.0  1673828.0\n",
              "Austria        1335.0        NaN\n",
              "Belarus      110361.0        NaN\n",
              "Belgium     5664460.0  8874391.0"
            ]
          },
          "metadata": {
            "tags": []
          },
          "execution_count": 85
        }
      ]
    },
    {
      "cell_type": "markdown",
      "metadata": {
        "id": "76FteKEzCrB-",
        "colab_type": "text"
      },
      "source": [
        "Removing the rows with a missing value will result in only those countries with bi-directional trade flow with the UK."
      ]
    },
    {
      "cell_type": "code",
      "metadata": {
        "activity": false,
        "id": "3wkONAonCrB_",
        "colab_type": "code",
        "outputId": "6c047eeb-c8c1-4ef2-ce15-db6151298efb",
        "colab": {
          "base_uri": "https://localhost:8080/",
          "height": 658
        }
      },
      "source": [
        "print(\"\\nThe UK has bi-directional trade flow with the following \" + str(len(countries.dropna())) + \" countries.\\n\")\n",
        "display(countries.dropna())"
      ],
      "execution_count": 0,
      "outputs": [
        {
          "output_type": "stream",
          "text": [
            "\n",
            "The UK has bi-directional trade flow with the following 17 countries.\n",
            "\n"
          ],
          "name": "stdout"
        },
        {
          "output_type": "display_data",
          "data": {
            "text/html": [
              "<div>\n",
              "<style scoped>\n",
              "    .dataframe tbody tr th:only-of-type {\n",
              "        vertical-align: middle;\n",
              "    }\n",
              "\n",
              "    .dataframe tbody tr th {\n",
              "        vertical-align: top;\n",
              "    }\n",
              "\n",
              "    .dataframe thead th {\n",
              "        text-align: right;\n",
              "    }\n",
              "</style>\n",
              "<table border=\"1\" class=\"dataframe\">\n",
              "  <thead>\n",
              "    <tr style=\"text-align: right;\">\n",
              "      <th>Trade Flow</th>\n",
              "      <th>Exports</th>\n",
              "      <th>Imports</th>\n",
              "    </tr>\n",
              "    <tr>\n",
              "      <th>Partner</th>\n",
              "      <th></th>\n",
              "      <th></th>\n",
              "    </tr>\n",
              "  </thead>\n",
              "  <tbody>\n",
              "    <tr>\n",
              "      <th>Australia</th>\n",
              "      <td>1370282.0</td>\n",
              "      <td>1673828.0</td>\n",
              "    </tr>\n",
              "    <tr>\n",
              "      <th>Belgium</th>\n",
              "      <td>5664460.0</td>\n",
              "      <td>8874391.0</td>\n",
              "    </tr>\n",
              "    <tr>\n",
              "      <th>Canada</th>\n",
              "      <td>601190.0</td>\n",
              "      <td>3024.0</td>\n",
              "    </tr>\n",
              "    <tr>\n",
              "      <th>China</th>\n",
              "      <td>430125.0</td>\n",
              "      <td>56097.0</td>\n",
              "    </tr>\n",
              "    <tr>\n",
              "      <th>Czech Rep.</th>\n",
              "      <td>254642.0</td>\n",
              "      <td>1998597.0</td>\n",
              "    </tr>\n",
              "    <tr>\n",
              "      <th>Denmark</th>\n",
              "      <td>593679.0</td>\n",
              "      <td>122416.0</td>\n",
              "    </tr>\n",
              "    <tr>\n",
              "      <th>France</th>\n",
              "      <td>1221984.0</td>\n",
              "      <td>9413829.0</td>\n",
              "    </tr>\n",
              "    <tr>\n",
              "      <th>Germany</th>\n",
              "      <td>9158415.0</td>\n",
              "      <td>17281076.0</td>\n",
              "    </tr>\n",
              "    <tr>\n",
              "      <th>India</th>\n",
              "      <td>121934.0</td>\n",
              "      <td>38215.0</td>\n",
              "    </tr>\n",
              "    <tr>\n",
              "      <th>Netherlands</th>\n",
              "      <td>752854.0</td>\n",
              "      <td>68009.0</td>\n",
              "    </tr>\n",
              "    <tr>\n",
              "      <th>New Zealand</th>\n",
              "      <td>265622.0</td>\n",
              "      <td>2176340.0</td>\n",
              "    </tr>\n",
              "    <tr>\n",
              "      <th>Peru</th>\n",
              "      <td>1941.0</td>\n",
              "      <td>4693.0</td>\n",
              "    </tr>\n",
              "    <tr>\n",
              "      <th>Poland</th>\n",
              "      <td>375610.0</td>\n",
              "      <td>2758898.0</td>\n",
              "    </tr>\n",
              "    <tr>\n",
              "      <th>Slovakia</th>\n",
              "      <td>38916.0</td>\n",
              "      <td>582680.0</td>\n",
              "    </tr>\n",
              "    <tr>\n",
              "      <th>Slovenia</th>\n",
              "      <td>40334.0</td>\n",
              "      <td>6092866.0</td>\n",
              "    </tr>\n",
              "    <tr>\n",
              "      <th>Spain</th>\n",
              "      <td>659212.0</td>\n",
              "      <td>1989.0</td>\n",
              "    </tr>\n",
              "    <tr>\n",
              "      <th>United States of America</th>\n",
              "      <td>9431078.0</td>\n",
              "      <td>39915608.0</td>\n",
              "    </tr>\n",
              "  </tbody>\n",
              "</table>\n",
              "</div>"
            ],
            "text/plain": [
              "Trade Flow                  Exports     Imports\n",
              "Partner                                        \n",
              "Australia                 1370282.0   1673828.0\n",
              "Belgium                   5664460.0   8874391.0\n",
              "Canada                     601190.0      3024.0\n",
              "China                      430125.0     56097.0\n",
              "Czech Rep.                 254642.0   1998597.0\n",
              "Denmark                    593679.0    122416.0\n",
              "France                    1221984.0   9413829.0\n",
              "Germany                   9158415.0  17281076.0\n",
              "India                      121934.0     38215.0\n",
              "Netherlands                752854.0     68009.0\n",
              "New Zealand                265622.0   2176340.0\n",
              "Peru                         1941.0      4693.0\n",
              "Poland                     375610.0   2758898.0\n",
              "Slovakia                    38916.0    582680.0\n",
              "Slovenia                    40334.0   6092866.0\n",
              "Spain                      659212.0      1989.0\n",
              "United States of America  9431078.0  39915608.0"
            ]
          },
          "metadata": {
            "tags": []
          }
        }
      ]
    },
    {
      "cell_type": "markdown",
      "metadata": {
        "id": "iOpukUqVCrCF",
        "colab_type": "text"
      },
      "source": [
        "## Conclusions\n",
        "\n",
        "The UK hops-based product trade in 2014 was analysed in terms of which countries the UK mostly depends on for income (exports) and goods (imports). Over the period, the UK had a **trade surplus of over 32 million US dollars with 74 different parther countries**.\n",
        "\n",
        "The **U.S. is the main partner**, but the UK imported almost over three times the value of hop-based goods from the U.S. than it exported to them (i.e. a substantial trade deficit of about 31 million US dollars). \n",
        "\n",
        "The UK **exported to 72 countries** during the period, but only **imported from 19 countries**. Germany and France are the next two main customers for both hop imports into, and exports out of, the UK.\n",
        "\n",
        "Interestingly, the UK is not very heavily dependent on its regular customers, since there are only two countries out of 74 that buy all three types of hops-based commodities every month (France and Ireland). This accounts for less than 1% of exports. However, the UK does rely significantly on France for imported goods. \n",
        "\n",
        "The UK has bi-directional trade (i.e. both exports and imports) with 17 countries, although for some (i.e. Peru) the trade value is suprisingly low."
      ]
    },
    {
      "cell_type": "code",
      "metadata": {
        "id": "DWyoraLdCrCG",
        "colab_type": "code",
        "outputId": "a5cf1da8-b27e-4974-b0a6-f19d2a30daf4",
        "colab": {
          "base_uri": "https://localhost:8080/",
          "height": 40
        }
      },
      "source": [
        "HTML('''<script>  \n",
        "function toggler() { \n",
        "$('div.input').toggle(); \n",
        "location.href=\"#Bottom\";\n",
        "} \n",
        "</script>\n",
        "<p style=\"display:inline;\"><center>Click <a href=\"javascript:toggler();\">here</a> to toggle code visibility on/off</center></p>\n",
        "<script>\n",
        "$('div.input').hide();\n",
        "location.href=\"#Top\";</script></div>''')"
      ],
      "execution_count": 0,
      "outputs": [
        {
          "output_type": "execute_result",
          "data": {
            "text/html": [
              "<script>  \n",
              "function toggler() { \n",
              "$('div.input').toggle(); \n",
              "location.href=\"#Bottom\";\n",
              "} \n",
              "</script>\n",
              "<p style=\"display:inline;\"><center>Click <a href=\"javascript:toggler();\">here</a> to toggle code visibility on/off</center></p>\n",
              "<script>\n",
              "$('div.input').hide();\n",
              "location.href=\"#Top\";</script></div>"
            ],
            "text/plain": [
              "<IPython.core.display.HTML object>"
            ]
          },
          "metadata": {
            "tags": []
          },
          "execution_count": 87
        }
      ]
    },
    {
      "cell_type": "markdown",
      "metadata": {
        "id": "00yqOawiCrCM",
        "colab_type": "text"
      },
      "source": [
        "<div><a id=\"Bottom\"></a>&copy; 2016 Phipps E&amp;OE.</div>"
      ]
    }
  ]
}