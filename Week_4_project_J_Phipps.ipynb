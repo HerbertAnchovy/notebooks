{
  "nbformat": 4,
  "nbformat_minor": 0,
  "metadata": {
    "colab": {
      "name": "Week_4_project_J_Phipps.ipynb",
      "version": "0.3.2",
      "provenance": [],
      "include_colab_link": true
    },
    "language_info": {
      "codemirror_mode": {
        "name": "ipython",
        "version": 3
      },
      "file_extension": ".py",
      "mimetype": "text/x-python",
      "name": "python",
      "nbconvert_exporter": "python",
      "pygments_lexer": "ipython3",
      "version": "3.4.3+"
    },
    "kernelspec": {
      "display_name": "Python 3",
      "language": "python",
      "name": "python3"
    }
  },
  "cells": [
    {
      "cell_type": "markdown",
      "metadata": {
        "id": "view-in-github",
        "colab_type": "text"
      },
      "source": [
        "<a href=\"https://colab.research.google.com/github/HerbertAnchovy/notebooks/blob/master/Week_4_project_J_Phipps.ipynb\" target=\"_parent\"><img src=\"https://colab.research.google.com/assets/colab-badge.svg\" alt=\"Open In Colab\"/></a>"
      ]
    },
    {
      "cell_type": "markdown",
      "metadata": {
        "id": "kyegqQKsCrAD",
        "colab_type": "text"
      },
      "source": [
        "<div>\n",
        "<a id=\"Top\"></a>\n",
        "<img style=\"float: left;\" src=\"https://msds.open.ac.uk/includes/oulogo_hor_75x55.gif\">&nbsp;&nbsp;&nbsp;\n",
        "</div>\n",
        "<br/>\n",
        "<br/>\n",
        "\n",
        "## Project 4: Exploring the UK's hop-based product imports and exports\n",
        "\n",
        "#### produced by [Jez Phipps](https://www.futurelearn.com/profiles/3841612) on 7<sup>th</sup> November 2016.\n",
        "\n",
        "This is my project notebook for Week 4 of The Open University's [_Learn to Code for Data Analysis_](http://futurelearn.com/courses/learn-to-code) course."
      ]
    },
    {
      "cell_type": "markdown",
      "metadata": {
        "id": "GODA9bnZCrAF",
        "colab_type": "text"
      },
      "source": [
        "A country's economy depends, sometimes heavily, on its exports and imports. The United Nations Comtrade database provides data on global trade. It will be used to analyse the UK's imports and exports of three hop-based products (see commodity descriptors below) in 2014:\n",
        "\n",
        "- How much does the UK export and import and is the balance positive (more exports than imports)? \n",
        "- Which are the main trading partners, i.e. from/to which countries does the UK import/export the most?\n",
        "- Which are the regular customers, i.e. which countries buy the products from the UK every month?\n",
        "- Which countries does the UK both import from and export to?"
      ]
    },
    {
      "cell_type": "code",
      "metadata": {
        "id": "tYu2V9FTCrAH",
        "colab_type": "code",
        "colab": {},
        "outputId": "008e11d4-aabe-49f9-bfad-a23c5a997326"
      },
      "source": [
        "from IPython.display import display, HTML\n",
        "HTML('''Note: <p style=\"display:inline;color:darkred;\">Option to toggle code visibility on/off is at <a href=\"#Bottom\">bottom</a> of page.</p>''')"
      ],
      "execution_count": 0,
      "outputs": [
        {
          "output_type": "execute_result",
          "data": {
            "text/html": [
              "Note: <p style=\"display:inline;color:darkred;\">Option to toggle code visibility on/off is at <a href=\"#Bottom\">bottom</a> of page.</p>"
            ],
            "text/plain": [
              "<IPython.core.display.HTML object>"
            ]
          },
          "metadata": {
            "tags": []
          },
          "execution_count": 191
        }
      ]
    },
    {
      "cell_type": "code",
      "metadata": {
        "activity": false,
        "id": "9bv_hfY2CrAQ",
        "colab_type": "code",
        "colab": {}
      },
      "source": [
        "import warnings\n",
        "warnings.simplefilter('ignore', FutureWarning)\n",
        "\n",
        "from pandas import *\n",
        "%matplotlib inline"
      ],
      "execution_count": 0,
      "outputs": []
    },
    {
      "cell_type": "markdown",
      "metadata": {
        "id": "_1wqk8ufCrAU",
        "colab_type": "text"
      },
      "source": [
        "## Getting and preparing the data\n",
        "\n",
        "The data is obtained from the [United Nations Comtrade](http://comtrade.un.org/data/) website, by selecting the following configuration:\n",
        "\n",
        "- Type of Product: goods\n",
        "- Frequency: monthly \n",
        "- Periods: All of 2014\n",
        "- Reporter: United Kingdom\n",
        "- Partners: all\n",
        "- Flows: imports and exports\n",
        "- HS (as reported) commodity codes: **1210** (Hop cones, fresh or dried, lupulin), **121010** (Hop cones, not ground, powdered or pelleted), **130213** (Hop extract)\n",
        "\n",
        "Clicking on 'Preview' results in a message that the data exceeds 500 rows. Data was downloaded using the *Download CSV* button and the download file renamed appropriately."
      ]
    },
    {
      "cell_type": "code",
      "metadata": {
        "id": "D8FxqJqUCrAW",
        "colab_type": "code",
        "colab": {}
      },
      "source": [
        "LOCATION='comtrade_hops_uk_2014.csv'"
      ],
      "execution_count": 0,
      "outputs": []
    },
    {
      "cell_type": "markdown",
      "metadata": {
        "id": "xZsUlpV1CrAa",
        "colab_type": "text"
      },
      "source": [
        "The data can also be downloaded directly from Comtrade using the \"View API Call\" URL, modified in two ways:\n",
        "\n",
        "- `max=500` is increased to `max=5000` to make sure all data is loaded,\n",
        "- `&fmt=csv` is added at the end to obtain the data in CSV format."
      ]
    },
    {
      "cell_type": "code",
      "metadata": {
        "id": "EkrZsVzBCrAb",
        "colab_type": "code",
        "colab": {}
      },
      "source": [
        "# LOCATION = 'http://comtrade.un.org/api/get?max=5000&type=C&freq=M&px=HS&ps=2014&r=826&p=all&rg=1%2C2&cc=1210%2C121010%2C130213&fmt=csv'"
      ],
      "execution_count": 0,
      "outputs": []
    },
    {
      "cell_type": "markdown",
      "metadata": {
        "id": "lt6c28IgCrAf",
        "colab_type": "text"
      },
      "source": [
        "On reading in the data, the commodity code has to be read as a string, to not lose the leading zero."
      ]
    },
    {
      "cell_type": "code",
      "metadata": {
        "activity": false,
        "id": "_T1kr_rQCrAg",
        "colab_type": "code",
        "colab": {},
        "outputId": "94ac4f64-c9cd-4068-93f6-e53682a37ea9"
      },
      "source": [
        "hops = read_csv(LOCATION, dtype={'Commodity Code':str})\n",
        "hops\n",
        "hops.tail(2)"
      ],
      "execution_count": 0,
      "outputs": [
        {
          "output_type": "execute_result",
          "data": {
            "text/html": [
              "<div style=\"max-height:1000px;max-width:1500px;overflow:auto;\">\n",
              "<table border=\"1\" class=\"dataframe\">\n",
              "  <thead>\n",
              "    <tr style=\"text-align: right;\">\n",
              "      <th></th>\n",
              "      <th>Classification</th>\n",
              "      <th>Year</th>\n",
              "      <th>Period</th>\n",
              "      <th>Period Desc.</th>\n",
              "      <th>Aggregate Level</th>\n",
              "      <th>Is Leaf Code</th>\n",
              "      <th>Trade Flow Code</th>\n",
              "      <th>Trade Flow</th>\n",
              "      <th>Reporter Code</th>\n",
              "      <th>Reporter</th>\n",
              "      <th>...</th>\n",
              "      <th>Qty</th>\n",
              "      <th>Alt Qty Unit Code</th>\n",
              "      <th>Alt Qty Unit</th>\n",
              "      <th>Alt Qty</th>\n",
              "      <th>Netweight (kg)</th>\n",
              "      <th>Gross weight (kg)</th>\n",
              "      <th>Trade Value (US$)</th>\n",
              "      <th>CIF Trade Value (US$)</th>\n",
              "      <th>FOB Trade Value (US$)</th>\n",
              "      <th>Flag</th>\n",
              "    </tr>\n",
              "  </thead>\n",
              "  <tbody>\n",
              "    <tr>\n",
              "      <th>1045</th>\n",
              "      <td> HS</td>\n",
              "      <td> 2014</td>\n",
              "      <td> 201412</td>\n",
              "      <td> December 2014</td>\n",
              "      <td> 6</td>\n",
              "      <td> 1</td>\n",
              "      <td> 1</td>\n",
              "      <td> Imports</td>\n",
              "      <td> 826</td>\n",
              "      <td> United Kingdom</td>\n",
              "      <td>...</td>\n",
              "      <td>NaN</td>\n",
              "      <td>NaN</td>\n",
              "      <td>NaN</td>\n",
              "      <td>NaN</td>\n",
              "      <td> 72679</td>\n",
              "      <td>NaN</td>\n",
              "      <td> 1903711</td>\n",
              "      <td>NaN</td>\n",
              "      <td>NaN</td>\n",
              "      <td> 0</td>\n",
              "    </tr>\n",
              "    <tr>\n",
              "      <th>1046</th>\n",
              "      <td> HS</td>\n",
              "      <td> 2014</td>\n",
              "      <td> 201412</td>\n",
              "      <td> December 2014</td>\n",
              "      <td> 6</td>\n",
              "      <td> 1</td>\n",
              "      <td> 2</td>\n",
              "      <td> Exports</td>\n",
              "      <td> 826</td>\n",
              "      <td> United Kingdom</td>\n",
              "      <td>...</td>\n",
              "      <td>NaN</td>\n",
              "      <td>NaN</td>\n",
              "      <td>NaN</td>\n",
              "      <td>NaN</td>\n",
              "      <td>  1670</td>\n",
              "      <td>NaN</td>\n",
              "      <td>  104985</td>\n",
              "      <td>NaN</td>\n",
              "      <td>NaN</td>\n",
              "      <td> 0</td>\n",
              "    </tr>\n",
              "  </tbody>\n",
              "</table>\n",
              "<p>2 rows × 35 columns</p>\n",
              "</div>"
            ],
            "text/plain": [
              "     Classification  Year  Period   Period Desc.  Aggregate Level  \\\n",
              "1045             HS  2014  201412  December 2014                6   \n",
              "1046             HS  2014  201412  December 2014                6   \n",
              "\n",
              "      Is Leaf Code  Trade Flow Code Trade Flow  Reporter Code        Reporter  \\\n",
              "1045             1                1    Imports            826  United Kingdom   \n",
              "1046             1                2    Exports            826  United Kingdom   \n",
              "\n",
              "      ...   Qty  Alt Qty Unit Code Alt Qty Unit  Alt Qty  Netweight (kg)  \\\n",
              "1045  ...   NaN                NaN          NaN      NaN           72679   \n",
              "1046  ...   NaN                NaN          NaN      NaN            1670   \n",
              "\n",
              "      Gross weight (kg)  Trade Value (US$)  CIF Trade Value (US$)  \\\n",
              "1045                NaN            1903711                    NaN   \n",
              "1046                NaN             104985                    NaN   \n",
              "\n",
              "      FOB Trade Value (US$)  Flag  \n",
              "1045                    NaN     0  \n",
              "1046                    NaN     0  \n",
              "\n",
              "[2 rows x 35 columns]"
            ]
          },
          "metadata": {
            "tags": []
          },
          "execution_count": 195
        }
      ]
    },
    {
      "cell_type": "markdown",
      "metadata": {
        "id": "pnQTaYZgCrAn",
        "colab_type": "text"
      },
      "source": [
        "Most columns are irrelevant for this analysis, or contain always the same value, like the year and reporter columns. The commodity code is transformed into a short but descriptive text and only the relevant columns are selected."
      ]
    },
    {
      "cell_type": "code",
      "metadata": {
        "activity": false,
        "id": "eoywyEQuCrAo",
        "colab_type": "code",
        "colab": {},
        "outputId": "06c0080b-17f1-4b28-bc38-a51211f44c46"
      },
      "source": [
        "def hopsType(code):\n",
        "    if code == '1210':   # Hop cones, fresh or dried, lupulin\n",
        "        return 'cones_1'\n",
        "    if code == '121010': # Hop cones, not ground, powdered or pelleted\n",
        "        return 'cones_2'\n",
        "    if code == '130213': # Hop extract\n",
        "        return 'extract' \n",
        "    return 'unknown'\n",
        "\n",
        "COMMODITY = 'Hop-based products'\n",
        "hops[COMMODITY] = hops['Commodity Code'].apply(hopsType)\n",
        "MONTH = 'Period'\n",
        "PARTNER = 'Partner'\n",
        "FLOW = 'Trade Flow'\n",
        "VALUE = 'Trade Value (US$)'\n",
        "headings = [MONTH, PARTNER, FLOW, COMMODITY, VALUE]\n",
        "hops = hops[headings]\n",
        "hops.head()"
      ],
      "execution_count": 0,
      "outputs": [
        {
          "output_type": "execute_result",
          "data": {
            "text/html": [
              "<div style=\"max-height:1000px;max-width:1500px;overflow:auto;\">\n",
              "<table border=\"1\" class=\"dataframe\">\n",
              "  <thead>\n",
              "    <tr style=\"text-align: right;\">\n",
              "      <th></th>\n",
              "      <th>Period</th>\n",
              "      <th>Partner</th>\n",
              "      <th>Trade Flow</th>\n",
              "      <th>Hop-based products</th>\n",
              "      <th>Trade Value (US$)</th>\n",
              "    </tr>\n",
              "  </thead>\n",
              "  <tbody>\n",
              "    <tr>\n",
              "      <th>0</th>\n",
              "      <td> 201401</td>\n",
              "      <td>     World</td>\n",
              "      <td> Imports</td>\n",
              "      <td> cones_1</td>\n",
              "      <td> 2875045</td>\n",
              "    </tr>\n",
              "    <tr>\n",
              "      <th>1</th>\n",
              "      <td> 201401</td>\n",
              "      <td>     World</td>\n",
              "      <td> Exports</td>\n",
              "      <td> cones_1</td>\n",
              "      <td>  537108</td>\n",
              "    </tr>\n",
              "    <tr>\n",
              "      <th>2</th>\n",
              "      <td> 201401</td>\n",
              "      <td> Australia</td>\n",
              "      <td> Imports</td>\n",
              "      <td> cones_1</td>\n",
              "      <td>   10763</td>\n",
              "    </tr>\n",
              "    <tr>\n",
              "      <th>3</th>\n",
              "      <td> 201401</td>\n",
              "      <td> Australia</td>\n",
              "      <td> Exports</td>\n",
              "      <td> cones_1</td>\n",
              "      <td>   66033</td>\n",
              "    </tr>\n",
              "    <tr>\n",
              "      <th>4</th>\n",
              "      <td> 201401</td>\n",
              "      <td>   Belgium</td>\n",
              "      <td> Imports</td>\n",
              "      <td> cones_1</td>\n",
              "      <td>  493981</td>\n",
              "    </tr>\n",
              "  </tbody>\n",
              "</table>\n",
              "</div>"
            ],
            "text/plain": [
              "   Period    Partner Trade Flow Hop-based products  Trade Value (US$)\n",
              "0  201401      World    Imports            cones_1            2875045\n",
              "1  201401      World    Exports            cones_1             537108\n",
              "2  201401  Australia    Imports            cones_1              10763\n",
              "3  201401  Australia    Exports            cones_1              66033\n",
              "4  201401    Belgium    Imports            cones_1             493981"
            ]
          },
          "metadata": {
            "tags": []
          },
          "execution_count": 196
        }
      ]
    },
    {
      "cell_type": "markdown",
      "metadata": {
        "id": "Gf7W3VKMCrAt",
        "colab_type": "text"
      },
      "source": [
        "The data contains the total imports and exports per month, under the 'World' partner. Those rows are removed to keep only the per-country data."
      ]
    },
    {
      "cell_type": "code",
      "metadata": {
        "activity": false,
        "id": "TsvnIZHICrAu",
        "colab_type": "code",
        "colab": {},
        "outputId": "9a243d05-47cf-4d69-fb97-ed549c725fe1"
      },
      "source": [
        "hops = hops[hops[PARTNER] != 'World']\n",
        "hops.head()"
      ],
      "execution_count": 0,
      "outputs": [
        {
          "output_type": "execute_result",
          "data": {
            "text/html": [
              "<div style=\"max-height:1000px;max-width:1500px;overflow:auto;\">\n",
              "<table border=\"1\" class=\"dataframe\">\n",
              "  <thead>\n",
              "    <tr style=\"text-align: right;\">\n",
              "      <th></th>\n",
              "      <th>Period</th>\n",
              "      <th>Partner</th>\n",
              "      <th>Trade Flow</th>\n",
              "      <th>Hop-based products</th>\n",
              "      <th>Trade Value (US$)</th>\n",
              "    </tr>\n",
              "  </thead>\n",
              "  <tbody>\n",
              "    <tr>\n",
              "      <th>2</th>\n",
              "      <td> 201401</td>\n",
              "      <td> Australia</td>\n",
              "      <td> Imports</td>\n",
              "      <td> cones_1</td>\n",
              "      <td>  10763</td>\n",
              "    </tr>\n",
              "    <tr>\n",
              "      <th>3</th>\n",
              "      <td> 201401</td>\n",
              "      <td> Australia</td>\n",
              "      <td> Exports</td>\n",
              "      <td> cones_1</td>\n",
              "      <td>  66033</td>\n",
              "    </tr>\n",
              "    <tr>\n",
              "      <th>4</th>\n",
              "      <td> 201401</td>\n",
              "      <td>   Belgium</td>\n",
              "      <td> Imports</td>\n",
              "      <td> cones_1</td>\n",
              "      <td> 493981</td>\n",
              "    </tr>\n",
              "    <tr>\n",
              "      <th>5</th>\n",
              "      <td> 201401</td>\n",
              "      <td>   Belgium</td>\n",
              "      <td> Exports</td>\n",
              "      <td> cones_1</td>\n",
              "      <td>  19782</td>\n",
              "    </tr>\n",
              "    <tr>\n",
              "      <th>6</th>\n",
              "      <td> 201401</td>\n",
              "      <td>    Canada</td>\n",
              "      <td> Exports</td>\n",
              "      <td> cones_1</td>\n",
              "      <td>   9290</td>\n",
              "    </tr>\n",
              "  </tbody>\n",
              "</table>\n",
              "</div>"
            ],
            "text/plain": [
              "   Period    Partner Trade Flow Hop-based products  Trade Value (US$)\n",
              "2  201401  Australia    Imports            cones_1              10763\n",
              "3  201401  Australia    Exports            cones_1              66033\n",
              "4  201401    Belgium    Imports            cones_1             493981\n",
              "5  201401    Belgium    Exports            cones_1              19782\n",
              "6  201401     Canada    Exports            cones_1               9290"
            ]
          },
          "metadata": {
            "tags": []
          },
          "execution_count": 197
        }
      ]
    },
    {
      "cell_type": "code",
      "metadata": {
        "id": "rJyQd01zCrAz",
        "colab_type": "code",
        "colab": {},
        "outputId": "074af867-11e8-48ea-a32d-98d038f8c7b4"
      },
      "source": [
        "print(\"\\nNote: The UK trade partners consist of \" + str(len(hops['Partner'].unique())) + \" different countries.\")"
      ],
      "execution_count": 0,
      "outputs": [
        {
          "output_type": "stream",
          "text": [
            "\n",
            "Note: The UK trade partners consist of 74 different countries.\n"
          ],
          "name": "stdout"
        }
      ]
    },
    {
      "cell_type": "markdown",
      "metadata": {
        "id": "uvXw2zzkCrA6",
        "colab_type": "text"
      },
      "source": [
        "## Total trade flow\n",
        "\n",
        "To answer the first question, **'How much does the UK export and import and is the balance positive (more exports than imports)?'**,\n",
        "the dataframe is split into two groups: exports from the UK and imports into the UK. The  trade values within each group are summed up to get the total trading."
      ]
    },
    {
      "cell_type": "code",
      "metadata": {
        "activity": false,
        "id": "lX4PvBbACrA8",
        "colab_type": "code",
        "colab": {},
        "outputId": "24fca6e0-6762-42dc-9c58-bb1237d16cee"
      },
      "source": [
        "grouped = hops.groupby([FLOW])\n",
        "hops_flow_totals = grouped[VALUE].aggregate(sum)\n",
        "hops_flow_totals"
      ],
      "execution_count": 0,
      "outputs": [
        {
          "output_type": "execute_result",
          "data": {
            "text/plain": [
              "Trade Flow\n",
              "Exports       59473468\n",
              "Imports       91270334\n",
              "Name: Trade Value (US$), dtype: int64"
            ]
          },
          "metadata": {
            "tags": []
          },
          "execution_count": 199
        }
      ]
    },
    {
      "cell_type": "code",
      "metadata": {
        "id": "37GCcGavCrBB",
        "colab_type": "code",
        "colab": {},
        "outputId": "fb7d2089-9165-43b2-90b5-e453e9bcf5b0"
      },
      "source": [
        "def roundToMillions (value):\n",
        "    return round((value / 1000000),1)\n",
        "\n",
        "# Let's get the trade surplus:\n",
        "surplus = hops_flow_totals['Imports'] - hops_flow_totals['Exports']\n",
        "print(\"This shows a trade surplus of about \" + str(roundToMillions(surplus)) + \" million US$.\")"
      ],
      "execution_count": 0,
      "outputs": [
        {
          "output_type": "stream",
          "text": [
            "This shows a trade surplus of about 31.8 million US$.\n"
          ],
          "name": "stdout"
        }
      ]
    },
    {
      "cell_type": "markdown",
      "metadata": {
        "id": "AmwUZ6c9CrBG",
        "colab_type": "text"
      },
      "source": [
        "## Main trade partners\n",
        "\n",
        "To address the second question, **'Which are the main trading partners, i.e. from/to which countries does the UK import/export the most?'**, the dataframe is split by country instead, and then each group aggregated for the total trade value. This is done separately for imports and exports. The result is sorted in descending order so that the main partners are at the top."
      ]
    },
    {
      "cell_type": "code",
      "metadata": {
        "activity": false,
        "id": "S_Tk9v3sCrBH",
        "colab_type": "code",
        "colab": {},
        "outputId": "40b645d5-a3c0-4df0-eedb-e1867ffd276b"
      },
      "source": [
        "imports = hops[hops[FLOW] == 'Imports']\n",
        "grouped = imports.groupby([PARTNER])\n",
        "print('The UK imports from', len(grouped), 'countries.')\n",
        "print('The 5 biggest exporters to the UK are:')\n",
        "totalImports = grouped[VALUE].aggregate(sum).sort(inplace=False,ascending=False)\n",
        "totalImports.head()"
      ],
      "execution_count": 0,
      "outputs": [
        {
          "output_type": "stream",
          "text": [
            "The UK imports from 19 countries.\n",
            "The 5 biggest exporters to the UK are:\n"
          ],
          "name": "stdout"
        },
        {
          "output_type": "execute_result",
          "data": {
            "text/plain": [
              "Partner\n",
              "United States of America    39915608\n",
              "Germany                     17281076\n",
              "France                       9413829\n",
              "Belgium                      8874391\n",
              "Slovenia                     6092866\n",
              "Name: Trade Value (US$), dtype: int64"
            ]
          },
          "metadata": {
            "tags": []
          },
          "execution_count": 201
        }
      ]
    },
    {
      "cell_type": "markdown",
      "metadata": {
        "id": "ojlFUpKXCrBM",
        "colab_type": "text"
      },
      "source": [
        "The export values can be plotted as a bar chart, making differences between countries easier to see."
      ]
    },
    {
      "cell_type": "code",
      "metadata": {
        "id": "lRItfVwXCrBN",
        "colab_type": "code",
        "colab": {},
        "outputId": "86d40809-5491-44d1-d11b-88e8380c08f4"
      },
      "source": [
        "totalImports.head(10).plot(kind='barh')"
      ],
      "execution_count": 0,
      "outputs": [
        {
          "output_type": "execute_result",
          "data": {
            "text/plain": [
              "<matplotlib.axes._subplots.AxesSubplot at 0x7f30c91a6cf8>"
            ]
          },
          "metadata": {
            "tags": []
          },
          "execution_count": 202
        },
        {
          "output_type": "display_data",
          "data": {
            "image/png": "[encoded data removed]",
            "text/plain": [
              "<matplotlib.figure.Figure at 0x7f30c91ac0f0>"
            ]
          },
          "metadata": {
            "tags": []
          }
        }
      ]
    },
    {
      "cell_type": "code",
      "metadata": {
        "activity": false,
        "id": "wsqwywO1CrBV",
        "colab_type": "code",
        "colab": {},
        "outputId": "62d5b00b-62a1-4d5b-d9ec-996e0b7def99"
      },
      "source": [
        "exports = hops[hops[FLOW] == 'Exports']\n",
        "grouped = exports.groupby([PARTNER])\n",
        "print('The UK exports to', len(grouped), 'countries.')\n",
        "print('The 5 biggest importers from the UK are:')\n",
        "totalExports = grouped[VALUE].aggregate(sum).order(ascending=False).head()\n",
        "totalExports.head()"
      ],
      "execution_count": 0,
      "outputs": [
        {
          "output_type": "stream",
          "text": [
            "The UK exports to 72 countries.\n",
            "The 5 biggest importers from the UK are:\n"
          ],
          "name": "stdout"
        },
        {
          "output_type": "execute_result",
          "data": {
            "text/plain": [
              "Partner\n",
              "United States of America    9431078\n",
              "Germany                     9158415\n",
              "Nigeria                     6862093\n",
              "Belgium                     5664460\n",
              "Brazil                      4700374\n",
              "Name: Trade Value (US$), dtype: int64"
            ]
          },
          "metadata": {
            "tags": []
          },
          "execution_count": 203
        }
      ]
    },
    {
      "cell_type": "code",
      "metadata": {
        "id": "mH-FNbCFCrBc",
        "colab_type": "code",
        "colab": {},
        "outputId": "bb9ebb6f-ee00-43d5-d7ec-0f0faade3848"
      },
      "source": [
        "i = totalImports.head(1)[0]\n",
        "i = str(roundToMillions(i))\n",
        "e = totalExports.head(1)[0]\n",
        "e = str(roundToMillions(e))\n",
        "\n",
        "print(\"The above clearly shows that the U.S. is our largest partner.\")\n",
        "print(\"However, our imports from the U.S. are about \" + i + \" million US$ and our exports are about \" + e + \" million US$.\")\n",
        "balance_of_trade = (totalExports.head(1)[0]) - (totalImports.head(1)[0]) # Country's imports exceed its exports.\n",
        "print(\"Consequently, the balance of trade is about \" + str(roundToMillions(balance_of_trade)) + \" million US$.\")"
      ],
      "execution_count": 0,
      "outputs": [
        {
          "output_type": "stream",
          "text": [
            "The above clearly shows that the U.S. is our largest partner.\n",
            "However, our imports from the U.S. are about 39.9 million US$ and our exports are about 9.4 million US$.\n",
            "Consequently, the balance of trade is about -30.5 million US$.\n"
          ],
          "name": "stdout"
        }
      ]
    },
    {
      "cell_type": "markdown",
      "metadata": {
        "id": "rqCoiMR1CrBi",
        "colab_type": "text"
      },
      "source": [
        "## Regular importers\n",
        "\n",
        "Given that there are three commodities, the third question, **'Which are the regular customers, i.e. which countries buy hop-based exports from the UK every month?'**, is meant in the sense that a regular customer buys (imports) _all three commodities every month._ This means that if the exports dataframe is grouped by country, each group has exactly 36 rows (three commodities bought each of the 12 months). To see the countries, only the first month of one commodity has to be listed, as by definition it's the same countries every month and for the other commodity."
      ]
    },
    {
      "cell_type": "code",
      "metadata": {
        "activity": false,
        "id": "bxwVjyvECrBk",
        "colab_type": "code",
        "colab": {},
        "outputId": "019b7e99-9aab-4243-ed13-b75fbdf2cd3f"
      },
      "source": [
        "def buysEveryMonth(group):\n",
        "    return len(group) == 36\n",
        "\n",
        "grouped = exports.groupby([PARTNER])\n",
        "regular = grouped.filter(buysEveryMonth)\n",
        "regular = regular[(regular[MONTH] == 201401) & (regular[COMMODITY] == 'extract')]\n",
        "regular"
      ],
      "execution_count": 0,
      "outputs": [
        {
          "output_type": "execute_result",
          "data": {
            "text/html": [
              "<div style=\"max-height:1000px;max-width:1500px;overflow:auto;\">\n",
              "<table border=\"1\" class=\"dataframe\">\n",
              "  <thead>\n",
              "    <tr style=\"text-align: right;\">\n",
              "      <th></th>\n",
              "      <th>Period</th>\n",
              "      <th>Partner</th>\n",
              "      <th>Trade Flow</th>\n",
              "      <th>Hop-based products</th>\n",
              "      <th>Trade Value (US$)</th>\n",
              "    </tr>\n",
              "  </thead>\n",
              "  <tbody>\n",
              "    <tr>\n",
              "      <th>662</th>\n",
              "      <td> 201401</td>\n",
              "      <td>  France</td>\n",
              "      <td> Exports</td>\n",
              "      <td> extract</td>\n",
              "      <td>  63928</td>\n",
              "    </tr>\n",
              "    <tr>\n",
              "      <th>667</th>\n",
              "      <td> 201401</td>\n",
              "      <td> Ireland</td>\n",
              "      <td> Exports</td>\n",
              "      <td> extract</td>\n",
              "      <td> 336060</td>\n",
              "    </tr>\n",
              "  </tbody>\n",
              "</table>\n",
              "</div>"
            ],
            "text/plain": [
              "     Period  Partner Trade Flow Hop-based products  Trade Value (US$)\n",
              "662  201401   France    Exports            extract              63928\n",
              "667  201401  Ireland    Exports            extract             336060"
            ]
          },
          "metadata": {
            "tags": []
          },
          "execution_count": 205
        }
      ]
    },
    {
      "cell_type": "code",
      "metadata": {
        "activity": false,
        "id": "kW5b6JD_CrBu",
        "colab_type": "code",
        "colab": {},
        "outputId": "c8559a56-f765-48fc-b603-7de7566a1ce5"
      },
      "source": [
        "pc=((regular[VALUE].sum() / exports[VALUE].sum())*100)\n",
        "regulars = len(regular)\n",
        "print(\"Approximately \" + str(round(pc,2)) + \"% of the total UK exports are due to the\", regulars ,\"regular customer(s) identified above.\")"
      ],
      "execution_count": 0,
      "outputs": [
        {
          "output_type": "stream",
          "text": [
            "Approximately 0.67% of the total UK exports are due to the 2 regular customer(s) identified above.\n"
          ],
          "name": "stdout"
        }
      ]
    },
    {
      "cell_type": "markdown",
      "metadata": {
        "id": "FJv00dGOCrB2",
        "colab_type": "text"
      },
      "source": [
        "## Bi-directional trade\n",
        "\n",
        "To address the fourth question, \n",
        "**'Which countries does the UK both import from and export to?**', a pivot table is used to list the total export and import value for each country. "
      ]
    },
    {
      "cell_type": "code",
      "metadata": {
        "activity": false,
        "id": "jLpDA3kiCrB3",
        "colab_type": "code",
        "colab": {},
        "outputId": "a497605e-842a-49ed-93de-4412017b76b7"
      },
      "source": [
        "countries = pivot_table(hops, index=[PARTNER], columns=[FLOW], \n",
        "                        values=VALUE, aggfunc=sum)\n",
        "countries.head()"
      ],
      "execution_count": 0,
      "outputs": [
        {
          "output_type": "execute_result",
          "data": {
            "text/html": [
              "<div style=\"max-height:1000px;max-width:1500px;overflow:auto;\">\n",
              "<table border=\"1\" class=\"dataframe\">\n",
              "  <thead>\n",
              "    <tr style=\"text-align: right;\">\n",
              "      <th>Trade Flow</th>\n",
              "      <th>Exports</th>\n",
              "      <th>Imports</th>\n",
              "    </tr>\n",
              "    <tr>\n",
              "      <th>Partner</th>\n",
              "      <th></th>\n",
              "      <th></th>\n",
              "    </tr>\n",
              "  </thead>\n",
              "  <tbody>\n",
              "    <tr>\n",
              "      <th>Argentina</th>\n",
              "      <td>  359284</td>\n",
              "      <td>     NaN</td>\n",
              "    </tr>\n",
              "    <tr>\n",
              "      <th>Australia</th>\n",
              "      <td> 1370282</td>\n",
              "      <td> 1673828</td>\n",
              "    </tr>\n",
              "    <tr>\n",
              "      <th>Austria</th>\n",
              "      <td>    1335</td>\n",
              "      <td>     NaN</td>\n",
              "    </tr>\n",
              "    <tr>\n",
              "      <th>Belarus</th>\n",
              "      <td>  110361</td>\n",
              "      <td>     NaN</td>\n",
              "    </tr>\n",
              "    <tr>\n",
              "      <th>Belgium</th>\n",
              "      <td> 5664460</td>\n",
              "      <td> 8874391</td>\n",
              "    </tr>\n",
              "  </tbody>\n",
              "</table>\n",
              "</div>"
            ],
            "text/plain": [
              "Trade Flow  Exports  Imports\n",
              "Partner                     \n",
              "Argentina    359284      NaN\n",
              "Australia   1370282  1673828\n",
              "Austria        1335      NaN\n",
              "Belarus      110361      NaN\n",
              "Belgium     5664460  8874391"
            ]
          },
          "metadata": {
            "tags": []
          },
          "execution_count": 207
        }
      ]
    },
    {
      "cell_type": "markdown",
      "metadata": {
        "id": "76FteKEzCrB-",
        "colab_type": "text"
      },
      "source": [
        "Removing the rows with a missing value will result in only those countries with bi-directional trade flow with the UK."
      ]
    },
    {
      "cell_type": "code",
      "metadata": {
        "activity": false,
        "id": "3wkONAonCrB_",
        "colab_type": "code",
        "colab": {},
        "outputId": "a183bf48-151a-44fc-89fe-df46448962a5"
      },
      "source": [
        "print(\"\\nThe UK has bi-directional trade flow with the following \" + str(len(countries.dropna())) + \" countries.\\n\")\n",
        "display(countries.dropna())"
      ],
      "execution_count": 0,
      "outputs": [
        {
          "output_type": "stream",
          "text": [
            "\n",
            "The UK has bi-directional trade flow with the following 17 countries.\n",
            "\n"
          ],
          "name": "stdout"
        },
        {
          "output_type": "display_data",
          "data": {
            "text/html": [
              "<div style=\"max-height:1000px;max-width:1500px;overflow:auto;\">\n",
              "<table border=\"1\" class=\"dataframe\">\n",
              "  <thead>\n",
              "    <tr style=\"text-align: right;\">\n",
              "      <th>Trade Flow</th>\n",
              "      <th>Exports</th>\n",
              "      <th>Imports</th>\n",
              "    </tr>\n",
              "    <tr>\n",
              "      <th>Partner</th>\n",
              "      <th></th>\n",
              "      <th></th>\n",
              "    </tr>\n",
              "  </thead>\n",
              "  <tbody>\n",
              "    <tr>\n",
              "      <th>Australia</th>\n",
              "      <td> 1370282</td>\n",
              "      <td>  1673828</td>\n",
              "    </tr>\n",
              "    <tr>\n",
              "      <th>Belgium</th>\n",
              "      <td> 5664460</td>\n",
              "      <td>  8874391</td>\n",
              "    </tr>\n",
              "    <tr>\n",
              "      <th>Canada</th>\n",
              "      <td>  601190</td>\n",
              "      <td>     3024</td>\n",
              "    </tr>\n",
              "    <tr>\n",
              "      <th>China</th>\n",
              "      <td>  430125</td>\n",
              "      <td>    56097</td>\n",
              "    </tr>\n",
              "    <tr>\n",
              "      <th>Czech Rep.</th>\n",
              "      <td>  254642</td>\n",
              "      <td>  1998597</td>\n",
              "    </tr>\n",
              "    <tr>\n",
              "      <th>Denmark</th>\n",
              "      <td>  593679</td>\n",
              "      <td>   122416</td>\n",
              "    </tr>\n",
              "    <tr>\n",
              "      <th>France</th>\n",
              "      <td> 1221984</td>\n",
              "      <td>  9413829</td>\n",
              "    </tr>\n",
              "    <tr>\n",
              "      <th>Germany</th>\n",
              "      <td> 9158415</td>\n",
              "      <td> 17281076</td>\n",
              "    </tr>\n",
              "    <tr>\n",
              "      <th>India</th>\n",
              "      <td>  121934</td>\n",
              "      <td>    38215</td>\n",
              "    </tr>\n",
              "    <tr>\n",
              "      <th>Netherlands</th>\n",
              "      <td>  752854</td>\n",
              "      <td>    68009</td>\n",
              "    </tr>\n",
              "    <tr>\n",
              "      <th>New Zealand</th>\n",
              "      <td>  265622</td>\n",
              "      <td>  2176340</td>\n",
              "    </tr>\n",
              "    <tr>\n",
              "      <th>Peru</th>\n",
              "      <td>    1941</td>\n",
              "      <td>     4693</td>\n",
              "    </tr>\n",
              "    <tr>\n",
              "      <th>Poland</th>\n",
              "      <td>  375610</td>\n",
              "      <td>  2758898</td>\n",
              "    </tr>\n",
              "    <tr>\n",
              "      <th>Slovakia</th>\n",
              "      <td>   38916</td>\n",
              "      <td>   582680</td>\n",
              "    </tr>\n",
              "    <tr>\n",
              "      <th>Slovenia</th>\n",
              "      <td>   40334</td>\n",
              "      <td>  6092866</td>\n",
              "    </tr>\n",
              "    <tr>\n",
              "      <th>Spain</th>\n",
              "      <td>  659212</td>\n",
              "      <td>     1989</td>\n",
              "    </tr>\n",
              "    <tr>\n",
              "      <th>United States of America</th>\n",
              "      <td> 9431078</td>\n",
              "      <td> 39915608</td>\n",
              "    </tr>\n",
              "  </tbody>\n",
              "</table>\n",
              "</div>"
            ],
            "text/plain": [
              "Trade Flow                Exports   Imports\n",
              "Partner                                    \n",
              "Australia                 1370282   1673828\n",
              "Belgium                   5664460   8874391\n",
              "Canada                     601190      3024\n",
              "China                      430125     56097\n",
              "Czech Rep.                 254642   1998597\n",
              "Denmark                    593679    122416\n",
              "France                    1221984   9413829\n",
              "Germany                   9158415  17281076\n",
              "India                      121934     38215\n",
              "Netherlands                752854     68009\n",
              "New Zealand                265622   2176340\n",
              "Peru                         1941      4693\n",
              "Poland                     375610   2758898\n",
              "Slovakia                    38916    582680\n",
              "Slovenia                    40334   6092866\n",
              "Spain                      659212      1989\n",
              "United States of America  9431078  39915608"
            ]
          },
          "metadata": {
            "tags": []
          }
        }
      ]
    },
    {
      "cell_type": "markdown",
      "metadata": {
        "id": "iOpukUqVCrCF",
        "colab_type": "text"
      },
      "source": [
        "## Conclusions\n",
        "\n",
        "The UK hops-based product trade in 2014 was analysed in terms of which countries the UK mostly depends on for income (exports) and goods (imports). Over the period, the UK had a **trade surplus of over 32 million US dollars with 74 different parther countries**.\n",
        "\n",
        "The **U.S. is the main partner**, but the UK imported almost over three times the value of hop-based goods from the U.S. than it exported to them (i.e. a substantial trade deficit of about 31 million US dollars). \n",
        "\n",
        "The UK **exported to 72 countries** during the period, but only **imported from 19 countries**. Germany and France are the next two main customers for both hop imports into, and exports out of, the UK.\n",
        "\n",
        "Interestingly, the UK is not very heavily dependent on its regular customers, since there are only two countries out of 74 that buy all three types of hops-based commodities every month (France and Ireland). This accounts for less than 1% of exports. However, the UK does rely significantly on France for imported goods. \n",
        "\n",
        "The UK has bi-directional trade (i.e. both exports and imports) with 17 countries, although for some (i.e. Peru) the trade value is suprisingly low."
      ]
    },
    {
      "cell_type": "code",
      "metadata": {
        "id": "DWyoraLdCrCG",
        "colab_type": "code",
        "colab": {},
        "outputId": "b8e59cbe-1a17-45b1-a076-73ece3ce5b17"
      },
      "source": [
        "HTML('''<script>  \n",
        "function toggler() { \n",
        "$('div.input').toggle(); \n",
        "location.href=\"#Bottom\";\n",
        "} \n",
        "</script>\n",
        "<p style=\"display:inline;\"><center>Click <a href=\"javascript:toggler();\">here</a> to toggle code visibility on/off</center></p>\n",
        "<script>\n",
        "$('div.input').hide();\n",
        "location.href=\"#Top\";</script></div>''')"
      ],
      "execution_count": 0,
      "outputs": [
        {
          "output_type": "execute_result",
          "data": {
            "text/html": [
              "<script>  \n",
              "function toggler() { \n",
              "$('div.input').toggle(); \n",
              "location.href=\"#Bottom\";\n",
              "} \n",
              "</script>\n",
              "<p style=\"display:inline;\"><center>Click <a href=\"javascript:toggler();\">here</a> to toggle code visibility on/off</center></p>\n",
              "<script>\n",
              "$('div.input').hide();\n",
              "location.href=\"#Top\";</script></div>"
            ],
            "text/plain": [
              "<IPython.core.display.HTML object>"
            ]
          },
          "metadata": {
            "tags": []
          },
          "execution_count": 209
        }
      ]
    },
    {
      "cell_type": "markdown",
      "metadata": {
        "id": "00yqOawiCrCM",
        "colab_type": "text"
      },
      "source": [
        "<div><a id=\"Bottom\"></a>&copy; 2016 Phipps E&amp;OE.</div>"
      ]
    }
  ]
}