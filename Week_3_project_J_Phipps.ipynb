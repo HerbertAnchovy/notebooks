{
  "nbformat": 4,
  "nbformat_minor": 0,
  "metadata": {
    "colab": {
      "name": "Week_3_project_J_Phipps.ipynb",
      "version": "0.3.2",
      "provenance": [],
      "include_colab_link": true
    },
    "language_info": {
      "codemirror_mode": {
        "name": "ipython",
        "version": 3
      },
      "file_extension": ".py",
      "mimetype": "text/x-python",
      "name": "python",
      "nbconvert_exporter": "python",
      "pygments_lexer": "ipython3",
      "version": "3.4.3+"
    },
    "kernelspec": {
      "display_name": "Python 3",
      "language": "python",
      "name": "python3"
    }
  },
  "cells": [
    {
      "cell_type": "markdown",
      "metadata": {
        "id": "view-in-github",
        "colab_type": "text"
      },
      "source": [
        "<a href=\"https://colab.research.google.com/github/HerbertAnchovy/notebooks/blob/master/Week_3_project_J_Phipps.ipynb\" target=\"_parent\"><img src=\"https://colab.research.google.com/assets/colab-badge.svg\" alt=\"Open In Colab\"/></a>"
      ]
    },
    {
      "cell_type": "markdown",
      "metadata": {
        "id": "b5l7pIEjCFrl",
        "colab_type": "text"
      },
      "source": [
        "<div>\n",
        "<a id=\"Top\"></a>\n",
        "<img style=\"float: left;\" src=\"https://msds.open.ac.uk/includes/oulogo_hor_75x55.gif\">&nbsp;&nbsp;&nbsp;\n",
        "</div>\n",
        "<br/>\n",
        "<br/>\n",
        "\n",
        "# Project 3: GDP and life expectancy\n",
        "\n",
        "#### produced by [Jez Phipps](https://www.futurelearn.com/profiles/3841612) on 30<sup>th</sup> October 2016 with absolutely no assistance from Michel Wermelinger whatsoever.\n",
        "\n",
        "This is the project notebook for Week 3 of The Open University's [_Learn to code for Data Analysis_](http://futurelearn.com/courses/learn-to-code) course.\n",
        "\n",
        "Richer countries can afford to invest more on healthcare, on work and road safety, and other measures that reduce mortality. On the other hand, richer countries may have less healthy lifestyles. Is there any relation between the wealth of a country and the life expectancy of its inhabitants?\n",
        "\n",
        "The following analysis checks whether there is any correlation between the total gross domestic product (GDP) of a country in 2013 and the life expectancy of people born in that country in 2013.\n",
        "\n",
        "The project has also been <a href=\"#Ext\">extended</a> to answer some key questions including those concerning whether GDP per capita has greater bearing on life expectancy than GDP."
      ]
    },
    {
      "cell_type": "code",
      "metadata": {
        "id": "k_9zgOasCFrn",
        "colab_type": "code",
        "colab": {},
        "outputId": "4b5d28a5-1fc2-4e5d-dc9d-26dd5ac124ba"
      },
      "source": [
        "from IPython.display import display, HTML\n",
        "HTML('''Note: <p style=\"display:inline;color:darkred;\">Option to toggle code visibility on/off is at <a href=\"#Bottom\">bottom</a> of page.</p>''')"
      ],
      "execution_count": 0,
      "outputs": [
        {
          "output_type": "execute_result",
          "data": {
            "text/html": [
              "Note: <p style=\"display:inline;color:darkred;\">Option to toggle code visibility on/off is at <a href=\"#Bottom\">bottom</a> of page.</p>"
            ],
            "text/plain": [
              "<IPython.core.display.HTML object>"
            ]
          },
          "metadata": {
            "tags": []
          },
          "execution_count": 1
        }
      ]
    },
    {
      "cell_type": "markdown",
      "metadata": {
        "id": "3U2Bby6vCFrx",
        "colab_type": "text"
      },
      "source": [
        "## Getting the data\n",
        "\n",
        "Two datasets of the World Bank are considered. One dataset, available at <http://data.worldbank.org/indicator/NY.GDP.MKTP.CD>, lists the GDP of the world's countries in current US dollars, for various years. The use of a common currency allows us to compare GDP values across countries. The other dataset, available at <http://data.worldbank.org/indicator/SP.DYN.LE00.IN>, lists the life expectancy of the world's countries. The datasets were downloaded as CSV files in March 2016."
      ]
    },
    {
      "cell_type": "code",
      "metadata": {
        "id": "8xg5-HC-CFrz",
        "colab_type": "code",
        "colab": {},
        "outputId": "584bbca8-3139-43e0-ab1c-b4ab4900697b"
      },
      "source": [
        "import warnings\n",
        "warnings.simplefilter('ignore', FutureWarning)\n",
        "\n",
        "from pandas import *\n",
        "\n",
        "YEAR = 2013\n",
        "GDP_INDICATOR = 'NY.GDP.MKTP.CD'\n",
        "gdpReset = read_csv('WB GDP 2013.csv')\n",
        "\n",
        "LIFE_INDICATOR = 'SP.DYN.LE00.IN'\n",
        "lifeReset = read_csv('WB LE 2013.csv')\n",
        "lifeReset.head()"
      ],
      "execution_count": 0,
      "outputs": [
        {
          "output_type": "execute_result",
          "data": {
            "text/html": [
              "<div style=\"max-height:1000px;max-width:1500px;overflow:auto;\">\n",
              "<table border=\"1\" class=\"dataframe\">\n",
              "  <thead>\n",
              "    <tr style=\"text-align: right;\">\n",
              "      <th></th>\n",
              "      <th>country</th>\n",
              "      <th>year</th>\n",
              "      <th>SP.DYN.LE00.IN</th>\n",
              "    </tr>\n",
              "  </thead>\n",
              "  <tbody>\n",
              "    <tr>\n",
              "      <th>0</th>\n",
              "      <td>                              Arab World</td>\n",
              "      <td> 2013</td>\n",
              "      <td> 70.631305</td>\n",
              "    </tr>\n",
              "    <tr>\n",
              "      <th>1</th>\n",
              "      <td>                  Caribbean small states</td>\n",
              "      <td> 2013</td>\n",
              "      <td> 71.901964</td>\n",
              "    </tr>\n",
              "    <tr>\n",
              "      <th>2</th>\n",
              "      <td>          Central Europe and the Baltics</td>\n",
              "      <td> 2013</td>\n",
              "      <td> 76.127583</td>\n",
              "    </tr>\n",
              "    <tr>\n",
              "      <th>3</th>\n",
              "      <td> East Asia &amp; Pacific (all income levels)</td>\n",
              "      <td> 2013</td>\n",
              "      <td> 74.604619</td>\n",
              "    </tr>\n",
              "    <tr>\n",
              "      <th>4</th>\n",
              "      <td>   East Asia &amp; Pacific (developing only)</td>\n",
              "      <td> 2013</td>\n",
              "      <td> 73.657617</td>\n",
              "    </tr>\n",
              "  </tbody>\n",
              "</table>\n",
              "</div>"
            ],
            "text/plain": [
              "                                   country  year  SP.DYN.LE00.IN\n",
              "0                               Arab World  2013       70.631305\n",
              "1                   Caribbean small states  2013       71.901964\n",
              "2           Central Europe and the Baltics  2013       76.127583\n",
              "3  East Asia & Pacific (all income levels)  2013       74.604619\n",
              "4    East Asia & Pacific (developing only)  2013       73.657617"
            ]
          },
          "metadata": {
            "tags": []
          },
          "execution_count": 2
        }
      ]
    },
    {
      "cell_type": "markdown",
      "metadata": {
        "id": "MSOpBGOaCFr4",
        "colab_type": "text"
      },
      "source": [
        "## Cleaning the data\n",
        "\n",
        "Inspecting the data with `head()` and `tail()` shows that:\n",
        "\n",
        "1. the first 34 rows are aggregated data, for the Arab World, the Caribbean small states, and other country groups used by the World Bank;\n",
        "- GDP and life expectancy values are missing for some countries.\n",
        "\n",
        "The data is therefore cleaned by:\n",
        "1. removing the first 34 rows;\n",
        "- removing rows with unavailable values."
      ]
    },
    {
      "cell_type": "code",
      "metadata": {
        "id": "jPa4bYK7CFr5",
        "colab_type": "code",
        "colab": {}
      },
      "source": [
        "gdpCountries = gdpReset[34:].dropna()\n",
        "lifeCountries = lifeReset[34:].dropna()"
      ],
      "execution_count": 0,
      "outputs": []
    },
    {
      "cell_type": "markdown",
      "metadata": {
        "id": "JGRxZU3ACFr9",
        "colab_type": "text"
      },
      "source": [
        "## Transforming the data\n",
        "\n",
        "The World Bank reports GDP in US dollars and cents. To make the data easier to read, the GDP is converted to millions of British pounds (the author's local currency) with the following auxiliary functions, using the average 2013 dollar-to-pound conversion rate provided by <http://www.ukforex.co.uk/forex-tools/historical-rate-tools/yearly-average-rates>. "
      ]
    },
    {
      "cell_type": "code",
      "metadata": {
        "id": "IzVoCcciCFr_",
        "colab_type": "code",
        "colab": {},
        "outputId": "b198500d-8698-4ebf-ce9c-60925b37ac3b"
      },
      "source": [
        "def roundToMillions (value):\n",
        "    return round(value / 1000000)\n",
        "\n",
        "def usdToGBP (usd):\n",
        "    return usd / 1.564768\n",
        "\n",
        "GDP = 'GDP (£m)'\n",
        "gdpCountries[GDP] = gdpCountries[GDP_INDICATOR].apply(usdToGBP).apply(roundToMillions)\n",
        "gdpCountries.head()"
      ],
      "execution_count": 0,
      "outputs": [
        {
          "output_type": "execute_result",
          "data": {
            "text/html": [
              "<div style=\"max-height:1000px;max-width:1500px;overflow:auto;\">\n",
              "<table border=\"1\" class=\"dataframe\">\n",
              "  <thead>\n",
              "    <tr style=\"text-align: right;\">\n",
              "      <th></th>\n",
              "      <th>country</th>\n",
              "      <th>year</th>\n",
              "      <th>NY.GDP.MKTP.CD</th>\n",
              "      <th>GDP (£m)</th>\n",
              "    </tr>\n",
              "  </thead>\n",
              "  <tbody>\n",
              "    <tr>\n",
              "      <th>34</th>\n",
              "      <td> Afghanistan</td>\n",
              "      <td> 2013</td>\n",
              "      <td> 2.045894e+10</td>\n",
              "      <td>  13075</td>\n",
              "    </tr>\n",
              "    <tr>\n",
              "      <th>35</th>\n",
              "      <td>     Albania</td>\n",
              "      <td> 2013</td>\n",
              "      <td> 1.278103e+10</td>\n",
              "      <td>   8168</td>\n",
              "    </tr>\n",
              "    <tr>\n",
              "      <th>36</th>\n",
              "      <td>     Algeria</td>\n",
              "      <td> 2013</td>\n",
              "      <td> 2.097035e+11</td>\n",
              "      <td> 134016</td>\n",
              "    </tr>\n",
              "    <tr>\n",
              "      <th>38</th>\n",
              "      <td>     Andorra</td>\n",
              "      <td> 2013</td>\n",
              "      <td> 3.249101e+09</td>\n",
              "      <td>   2076</td>\n",
              "    </tr>\n",
              "    <tr>\n",
              "      <th>39</th>\n",
              "      <td>      Angola</td>\n",
              "      <td> 2013</td>\n",
              "      <td> 1.383568e+11</td>\n",
              "      <td>  88420</td>\n",
              "    </tr>\n",
              "  </tbody>\n",
              "</table>\n",
              "</div>"
            ],
            "text/plain": [
              "        country  year  NY.GDP.MKTP.CD  GDP (£m)\n",
              "34  Afghanistan  2013    2.045894e+10     13075\n",
              "35      Albania  2013    1.278103e+10      8168\n",
              "36      Algeria  2013    2.097035e+11    134016\n",
              "38      Andorra  2013    3.249101e+09      2076\n",
              "39       Angola  2013    1.383568e+11     88420"
            ]
          },
          "metadata": {
            "tags": []
          },
          "execution_count": 4
        }
      ]
    },
    {
      "cell_type": "markdown",
      "metadata": {
        "id": "aqDVmYvzCFsE",
        "colab_type": "text"
      },
      "source": [
        "The unnecessary columns can be dropped."
      ]
    },
    {
      "cell_type": "code",
      "metadata": {
        "id": "YjiLpPUTCFsF",
        "colab_type": "code",
        "colab": {},
        "outputId": "0f997c4c-150c-444f-e0d5-2f7cc2830b16"
      },
      "source": [
        "COUNTRY = 'country'\n",
        "headings = [COUNTRY, GDP]\n",
        "gdpClean = gdpCountries[headings]\n",
        "gdpClean.head()"
      ],
      "execution_count": 0,
      "outputs": [
        {
          "output_type": "execute_result",
          "data": {
            "text/html": [
              "<div style=\"max-height:1000px;max-width:1500px;overflow:auto;\">\n",
              "<table border=\"1\" class=\"dataframe\">\n",
              "  <thead>\n",
              "    <tr style=\"text-align: right;\">\n",
              "      <th></th>\n",
              "      <th>country</th>\n",
              "      <th>GDP (£m)</th>\n",
              "    </tr>\n",
              "  </thead>\n",
              "  <tbody>\n",
              "    <tr>\n",
              "      <th>34</th>\n",
              "      <td> Afghanistan</td>\n",
              "      <td>  13075</td>\n",
              "    </tr>\n",
              "    <tr>\n",
              "      <th>35</th>\n",
              "      <td>     Albania</td>\n",
              "      <td>   8168</td>\n",
              "    </tr>\n",
              "    <tr>\n",
              "      <th>36</th>\n",
              "      <td>     Algeria</td>\n",
              "      <td> 134016</td>\n",
              "    </tr>\n",
              "    <tr>\n",
              "      <th>38</th>\n",
              "      <td>     Andorra</td>\n",
              "      <td>   2076</td>\n",
              "    </tr>\n",
              "    <tr>\n",
              "      <th>39</th>\n",
              "      <td>      Angola</td>\n",
              "      <td>  88420</td>\n",
              "    </tr>\n",
              "  </tbody>\n",
              "</table>\n",
              "</div>"
            ],
            "text/plain": [
              "        country  GDP (£m)\n",
              "34  Afghanistan     13075\n",
              "35      Albania      8168\n",
              "36      Algeria    134016\n",
              "38      Andorra      2076\n",
              "39       Angola     88420"
            ]
          },
          "metadata": {
            "tags": []
          },
          "execution_count": 5
        }
      ]
    },
    {
      "cell_type": "markdown",
      "metadata": {
        "id": "PuYALreECFsK",
        "colab_type": "text"
      },
      "source": [
        "The World Bank reports the life expectancy with several decimal places. After rounding, the original column is discarded."
      ]
    },
    {
      "cell_type": "code",
      "metadata": {
        "id": "jxbcru5DCFsL",
        "colab_type": "code",
        "colab": {},
        "outputId": "33fd7538-9c83-49e4-a483-5f35e920dcc7"
      },
      "source": [
        "LIFE = 'Life expectancy (years)'\n",
        "lifeCountries[LIFE] = lifeCountries[LIFE_INDICATOR].apply(round)\n",
        "headings = [COUNTRY, LIFE]\n",
        "lifeClean = lifeCountries[headings]\n",
        "lifeClean.head()"
      ],
      "execution_count": 0,
      "outputs": [
        {
          "output_type": "execute_result",
          "data": {
            "text/html": [
              "<div style=\"max-height:1000px;max-width:1500px;overflow:auto;\">\n",
              "<table border=\"1\" class=\"dataframe\">\n",
              "  <thead>\n",
              "    <tr style=\"text-align: right;\">\n",
              "      <th></th>\n",
              "      <th>country</th>\n",
              "      <th>Life expectancy (years)</th>\n",
              "    </tr>\n",
              "  </thead>\n",
              "  <tbody>\n",
              "    <tr>\n",
              "      <th>34</th>\n",
              "      <td>         Afghanistan</td>\n",
              "      <td> 60</td>\n",
              "    </tr>\n",
              "    <tr>\n",
              "      <th>35</th>\n",
              "      <td>             Albania</td>\n",
              "      <td> 78</td>\n",
              "    </tr>\n",
              "    <tr>\n",
              "      <th>36</th>\n",
              "      <td>             Algeria</td>\n",
              "      <td> 75</td>\n",
              "    </tr>\n",
              "    <tr>\n",
              "      <th>39</th>\n",
              "      <td>              Angola</td>\n",
              "      <td> 52</td>\n",
              "    </tr>\n",
              "    <tr>\n",
              "      <th>40</th>\n",
              "      <td> Antigua and Barbuda</td>\n",
              "      <td> 76</td>\n",
              "    </tr>\n",
              "  </tbody>\n",
              "</table>\n",
              "</div>"
            ],
            "text/plain": [
              "                country  Life expectancy (years)\n",
              "34          Afghanistan                       60\n",
              "35              Albania                       78\n",
              "36              Algeria                       75\n",
              "39               Angola                       52\n",
              "40  Antigua and Barbuda                       76"
            ]
          },
          "metadata": {
            "tags": []
          },
          "execution_count": 6
        }
      ]
    },
    {
      "cell_type": "markdown",
      "metadata": {
        "id": "KJmXklfjCFsQ",
        "colab_type": "text"
      },
      "source": [
        "## Combining the data\n",
        "\n",
        "The tables are combined through an inner join on the common 'country' column. "
      ]
    },
    {
      "cell_type": "code",
      "metadata": {
        "id": "RVd8Mt2qCFsR",
        "colab_type": "code",
        "colab": {},
        "outputId": "abd40d77-3392-4adc-dcd7-3c26c61d0865"
      },
      "source": [
        "gdpVsLife = merge(gdpClean, lifeClean, on=COUNTRY, how='inner')\n",
        "gdpVsLife.head()"
      ],
      "execution_count": 0,
      "outputs": [
        {
          "output_type": "execute_result",
          "data": {
            "text/html": [
              "<div style=\"max-height:1000px;max-width:1500px;overflow:auto;\">\n",
              "<table border=\"1\" class=\"dataframe\">\n",
              "  <thead>\n",
              "    <tr style=\"text-align: right;\">\n",
              "      <th></th>\n",
              "      <th>country</th>\n",
              "      <th>GDP (£m)</th>\n",
              "      <th>Life expectancy (years)</th>\n",
              "    </tr>\n",
              "  </thead>\n",
              "  <tbody>\n",
              "    <tr>\n",
              "      <th>0</th>\n",
              "      <td>         Afghanistan</td>\n",
              "      <td>  13075</td>\n",
              "      <td> 60</td>\n",
              "    </tr>\n",
              "    <tr>\n",
              "      <th>1</th>\n",
              "      <td>             Albania</td>\n",
              "      <td>   8168</td>\n",
              "      <td> 78</td>\n",
              "    </tr>\n",
              "    <tr>\n",
              "      <th>2</th>\n",
              "      <td>             Algeria</td>\n",
              "      <td> 134016</td>\n",
              "      <td> 75</td>\n",
              "    </tr>\n",
              "    <tr>\n",
              "      <th>3</th>\n",
              "      <td>              Angola</td>\n",
              "      <td>  88420</td>\n",
              "      <td> 52</td>\n",
              "    </tr>\n",
              "    <tr>\n",
              "      <th>4</th>\n",
              "      <td> Antigua and Barbuda</td>\n",
              "      <td>    767</td>\n",
              "      <td> 76</td>\n",
              "    </tr>\n",
              "  </tbody>\n",
              "</table>\n",
              "</div>"
            ],
            "text/plain": [
              "               country  GDP (£m)  Life expectancy (years)\n",
              "0          Afghanistan     13075                       60\n",
              "1              Albania      8168                       78\n",
              "2              Algeria    134016                       75\n",
              "3               Angola     88420                       52\n",
              "4  Antigua and Barbuda       767                       76"
            ]
          },
          "metadata": {
            "tags": []
          },
          "execution_count": 7
        }
      ]
    },
    {
      "cell_type": "markdown",
      "metadata": {
        "id": "Uw3WJnG3CFsX",
        "colab_type": "text"
      },
      "source": [
        "## Calculating the correlation\n",
        "\n",
        "To measure if the life expectancy and the GDP grow together, the Spearman rank correlation coefficient is used. It is a number from -1 (perfect inverse rank correlation: if one indicator increases, the other decreases) to 1 (perfect direct rank correlation: if one indicator increases, so does the other), with 0 meaning there is no rank correlation. A perfect correlation doesn't imply any cause-effect relation between the two indicators. A p-value below 0.05 means the correlation is statistically significant."
      ]
    },
    {
      "cell_type": "code",
      "metadata": {
        "id": "BmNtsGMRCFsY",
        "colab_type": "code",
        "colab": {},
        "outputId": "04683467-58de-4d83-ce23-85887d6c0a11"
      },
      "source": [
        "from scipy.stats import spearmanr\n",
        "\n",
        "gdpColumn = gdpVsLife[GDP]\n",
        "lifeColumn = gdpVsLife[LIFE]\n",
        "(correlation, pValue) = spearmanr(gdpColumn, lifeColumn)\n",
        "print('The correlation using Spearman ranking is', correlation)\n",
        "print('The p-value is', pValue)\n",
        "if pValue < 0.05:\n",
        "    print('It is statistically significant.')\n",
        "else:\n",
        "    print('It is not statistically significant.')"
      ],
      "execution_count": 0,
      "outputs": [
        {
          "output_type": "stream",
          "text": [
            "The correlation using Spearman ranking is 0.501023238967\n",
            "The p-value is 3.26140570336e-13\n",
            "It is statistically significant.\n"
          ],
          "name": "stdout"
        }
      ]
    },
    {
      "cell_type": "markdown",
      "metadata": {
        "id": "37NmbogfCFsd",
        "colab_type": "text"
      },
      "source": [
        "The value shows a direct correlation, i.e. richer countries tend to have longer life expectancy, but it is not very strong."
      ]
    },
    {
      "cell_type": "markdown",
      "metadata": {
        "id": "ZR3B3AiwCFsf",
        "colab_type": "text"
      },
      "source": [
        "## Showing the data\n",
        "\n",
        "Measures of correlation can be misleading, so it is best to see the overall picture with a scatterplot. The GDP axis uses a logarithmic scale to better display the vast range of GDP values, from a few million to several billion (million of million) pounds."
      ]
    },
    {
      "cell_type": "code",
      "metadata": {
        "id": "FLC706GwCFsg",
        "colab_type": "code",
        "colab": {},
        "outputId": "b5882122-f480-4387-c972-88f5a10982ab"
      },
      "source": [
        "%matplotlib inline\n",
        "gdpVsLife.plot(x=GDP, y=LIFE, kind='scatter', grid=True, logx=True, figsize=(10, 4))"
      ],
      "execution_count": 0,
      "outputs": [
        {
          "output_type": "execute_result",
          "data": {
            "text/plain": [
              "<matplotlib.axes._subplots.AxesSubplot at 0x7fee9407f160>"
            ]
          },
          "metadata": {
            "tags": []
          },
          "execution_count": 9
        },
        {
          "output_type": "display_data",
          "data": {
            "image/png": "[encoded data removed]",
            "text/plain": [
              "<matplotlib.figure.Figure at 0x7feea014d5c0>"
            ]
          },
          "metadata": {
            "tags": []
          }
        }
      ]
    },
    {
      "cell_type": "markdown",
      "metadata": {
        "id": "yDqW0htYCFsl",
        "colab_type": "text"
      },
      "source": [
        "The plot shows there is no clear correlation: there are rich countries with low life expectancy, poor countries with high expectancy, and countries with around 10 thousand (10<sup>4</sup>) million pounds GDP have almost the full range of values, from below 50 to over 80 years. Towards the lower and higher end of GDP, the variation diminishes. Above 40 thousand million pounds of GDP (3rd tick mark to the right of 10<sup>4</sup>), most countries have an expectancy of 70 years or more, whilst below that threshold most countries' life expectancy is below 70 years. \n",
        "\n",
        "Comparing the 10 poorest countries and the 10 countries with the lowest life expectancy shows that total GDP is a rather crude measure. The population size should be taken into account for a more precise definiton of what 'poor' and 'rich' means. Furthermore, looking at the countries below, droughts and internal conflicts may also play a role in life expectancy. "
      ]
    },
    {
      "cell_type": "code",
      "metadata": {
        "id": "WlC6KvVVCFsm",
        "colab_type": "code",
        "colab": {},
        "outputId": "7f763908-b526-4b3e-a0ab-61cd414570e7"
      },
      "source": [
        "# the 10 countries with lowest GDP\n",
        "gdpVsLife.sort(GDP).head(10)"
      ],
      "execution_count": 0,
      "outputs": [
        {
          "output_type": "execute_result",
          "data": {
            "text/html": [
              "<div style=\"max-height:1000px;max-width:1500px;overflow:auto;\">\n",
              "<table border=\"1\" class=\"dataframe\">\n",
              "  <thead>\n",
              "    <tr style=\"text-align: right;\">\n",
              "      <th></th>\n",
              "      <th>country</th>\n",
              "      <th>GDP (£m)</th>\n",
              "      <th>Life expectancy (years)</th>\n",
              "    </tr>\n",
              "  </thead>\n",
              "  <tbody>\n",
              "    <tr>\n",
              "      <th>87 </th>\n",
              "      <td>                       Kiribati</td>\n",
              "      <td> 108</td>\n",
              "      <td> 66</td>\n",
              "    </tr>\n",
              "    <tr>\n",
              "      <th>141</th>\n",
              "      <td>          Sao Tome and Principe</td>\n",
              "      <td> 195</td>\n",
              "      <td> 66</td>\n",
              "    </tr>\n",
              "    <tr>\n",
              "      <th>111</th>\n",
              "      <td>          Micronesia, Fed. Sts.</td>\n",
              "      <td> 202</td>\n",
              "      <td> 69</td>\n",
              "    </tr>\n",
              "    <tr>\n",
              "      <th>168</th>\n",
              "      <td>                          Tonga</td>\n",
              "      <td> 277</td>\n",
              "      <td> 73</td>\n",
              "    </tr>\n",
              "    <tr>\n",
              "      <th>37 </th>\n",
              "      <td>                        Comoros</td>\n",
              "      <td> 383</td>\n",
              "      <td> 63</td>\n",
              "    </tr>\n",
              "    <tr>\n",
              "      <th>157</th>\n",
              "      <td> St. Vincent and the Grenadines</td>\n",
              "      <td> 461</td>\n",
              "      <td> 73</td>\n",
              "    </tr>\n",
              "    <tr>\n",
              "      <th>140</th>\n",
              "      <td>                          Samoa</td>\n",
              "      <td> 509</td>\n",
              "      <td> 73</td>\n",
              "    </tr>\n",
              "    <tr>\n",
              "      <th>180</th>\n",
              "      <td>                        Vanuatu</td>\n",
              "      <td> 512</td>\n",
              "      <td> 72</td>\n",
              "    </tr>\n",
              "    <tr>\n",
              "      <th>65 </th>\n",
              "      <td>                        Grenada</td>\n",
              "      <td> 538</td>\n",
              "      <td> 73</td>\n",
              "    </tr>\n",
              "    <tr>\n",
              "      <th>60 </th>\n",
              "      <td>                    Gambia, The</td>\n",
              "      <td> 578</td>\n",
              "      <td> 60</td>\n",
              "    </tr>\n",
              "  </tbody>\n",
              "</table>\n",
              "</div>"
            ],
            "text/plain": [
              "                            country  GDP (£m)  Life expectancy (years)\n",
              "87                         Kiribati       108                       66\n",
              "141           Sao Tome and Principe       195                       66\n",
              "111           Micronesia, Fed. Sts.       202                       69\n",
              "168                           Tonga       277                       73\n",
              "37                          Comoros       383                       63\n",
              "157  St. Vincent and the Grenadines       461                       73\n",
              "140                           Samoa       509                       73\n",
              "180                         Vanuatu       512                       72\n",
              "65                          Grenada       538                       73\n",
              "60                      Gambia, The       578                       60"
            ]
          },
          "metadata": {
            "tags": []
          },
          "execution_count": 10
        }
      ]
    },
    {
      "cell_type": "code",
      "metadata": {
        "id": "aYlv-H78CFss",
        "colab_type": "code",
        "colab": {},
        "outputId": "31fce209-104c-4f74-a668-b001f76ea4be"
      },
      "source": [
        "# the 10 countries with highest GDP\n",
        "gdpVsLife.sort(GDP, ascending=False).head(10)"
      ],
      "execution_count": 0,
      "outputs": [
        {
          "output_type": "execute_result",
          "data": {
            "text/html": [
              "<div style=\"max-height:1000px;max-width:1500px;overflow:auto;\">\n",
              "<table border=\"1\" class=\"dataframe\">\n",
              "  <thead>\n",
              "    <tr style=\"text-align: right;\">\n",
              "      <th></th>\n",
              "      <th>country</th>\n",
              "      <th>GDP (£m)</th>\n",
              "      <th>Life expectancy (years)</th>\n",
              "    </tr>\n",
              "  </thead>\n",
              "  <tbody>\n",
              "    <tr>\n",
              "      <th>177</th>\n",
              "      <td>      United States</td>\n",
              "      <td> 10715999</td>\n",
              "      <td> 79</td>\n",
              "    </tr>\n",
              "    <tr>\n",
              "      <th>35 </th>\n",
              "      <td>              China</td>\n",
              "      <td>  6065182</td>\n",
              "      <td> 75</td>\n",
              "    </tr>\n",
              "    <tr>\n",
              "      <th>83 </th>\n",
              "      <td>              Japan</td>\n",
              "      <td>  3143957</td>\n",
              "      <td> 83</td>\n",
              "    </tr>\n",
              "    <tr>\n",
              "      <th>62 </th>\n",
              "      <td>            Germany</td>\n",
              "      <td>  2393529</td>\n",
              "      <td> 81</td>\n",
              "    </tr>\n",
              "    <tr>\n",
              "      <th>58 </th>\n",
              "      <td>             France</td>\n",
              "      <td>  1795953</td>\n",
              "      <td> 82</td>\n",
              "    </tr>\n",
              "    <tr>\n",
              "      <th>176</th>\n",
              "      <td>     United Kingdom</td>\n",
              "      <td>  1733354</td>\n",
              "      <td> 81</td>\n",
              "    </tr>\n",
              "    <tr>\n",
              "      <th>23 </th>\n",
              "      <td>             Brazil</td>\n",
              "      <td>  1528714</td>\n",
              "      <td> 74</td>\n",
              "    </tr>\n",
              "    <tr>\n",
              "      <th>81 </th>\n",
              "      <td>              Italy</td>\n",
              "      <td>  1363486</td>\n",
              "      <td> 82</td>\n",
              "    </tr>\n",
              "    <tr>\n",
              "      <th>138</th>\n",
              "      <td> Russian Federation</td>\n",
              "      <td>  1328647</td>\n",
              "      <td> 71</td>\n",
              "    </tr>\n",
              "    <tr>\n",
              "      <th>75 </th>\n",
              "      <td>              India</td>\n",
              "      <td>  1189826</td>\n",
              "      <td> 68</td>\n",
              "    </tr>\n",
              "  </tbody>\n",
              "</table>\n",
              "</div>"
            ],
            "text/plain": [
              "                country  GDP (£m)  Life expectancy (years)\n",
              "177       United States  10715999                       79\n",
              "35                China   6065182                       75\n",
              "83                Japan   3143957                       83\n",
              "62              Germany   2393529                       81\n",
              "58               France   1795953                       82\n",
              "176      United Kingdom   1733354                       81\n",
              "23               Brazil   1528714                       74\n",
              "81                Italy   1363486                       82\n",
              "138  Russian Federation   1328647                       71\n",
              "75                India   1189826                       68"
            ]
          },
          "metadata": {
            "tags": []
          },
          "execution_count": 11
        }
      ]
    },
    {
      "cell_type": "code",
      "metadata": {
        "id": "bkHpS_tYCFs0",
        "colab_type": "code",
        "colab": {},
        "outputId": "54cacc6b-64b5-43ff-fcb2-de29ebc73470"
      },
      "source": [
        "# the 10 countries with lowest life expectancy\n",
        "gdpVsLife.sort(LIFE).head(10)"
      ],
      "execution_count": 0,
      "outputs": [
        {
          "output_type": "execute_result",
          "data": {
            "text/html": [
              "<div style=\"max-height:1000px;max-width:1500px;overflow:auto;\">\n",
              "<table border=\"1\" class=\"dataframe\">\n",
              "  <thead>\n",
              "    <tr style=\"text-align: right;\">\n",
              "      <th></th>\n",
              "      <th>country</th>\n",
              "      <th>GDP (£m)</th>\n",
              "      <th>Life expectancy (years)</th>\n",
              "    </tr>\n",
              "  </thead>\n",
              "  <tbody>\n",
              "    <tr>\n",
              "      <th>95 </th>\n",
              "      <td>                  Lesotho</td>\n",
              "      <td>   1418</td>\n",
              "      <td> 49</td>\n",
              "    </tr>\n",
              "    <tr>\n",
              "      <th>160</th>\n",
              "      <td>                Swaziland</td>\n",
              "      <td>   2916</td>\n",
              "      <td> 49</td>\n",
              "    </tr>\n",
              "    <tr>\n",
              "      <th>32 </th>\n",
              "      <td> Central African Republic</td>\n",
              "      <td>    983</td>\n",
              "      <td> 50</td>\n",
              "    </tr>\n",
              "    <tr>\n",
              "      <th>146</th>\n",
              "      <td>             Sierra Leone</td>\n",
              "      <td>   3092</td>\n",
              "      <td> 50</td>\n",
              "    </tr>\n",
              "    <tr>\n",
              "      <th>33 </th>\n",
              "      <td>                     Chad</td>\n",
              "      <td>   8276</td>\n",
              "      <td> 51</td>\n",
              "    </tr>\n",
              "    <tr>\n",
              "      <th>41 </th>\n",
              "      <td>            Cote d'Ivoire</td>\n",
              "      <td>  19998</td>\n",
              "      <td> 51</td>\n",
              "    </tr>\n",
              "    <tr>\n",
              "      <th>3  </th>\n",
              "      <td>                   Angola</td>\n",
              "      <td>  88420</td>\n",
              "      <td> 52</td>\n",
              "    </tr>\n",
              "    <tr>\n",
              "      <th>124</th>\n",
              "      <td>                  Nigeria</td>\n",
              "      <td> 329100</td>\n",
              "      <td> 52</td>\n",
              "    </tr>\n",
              "    <tr>\n",
              "      <th>30 </th>\n",
              "      <td>                 Cameroon</td>\n",
              "      <td>  18896</td>\n",
              "      <td> 55</td>\n",
              "    </tr>\n",
              "    <tr>\n",
              "      <th>153</th>\n",
              "      <td>              South Sudan</td>\n",
              "      <td>   8473</td>\n",
              "      <td> 55</td>\n",
              "    </tr>\n",
              "  </tbody>\n",
              "</table>\n",
              "</div>"
            ],
            "text/plain": [
              "                      country  GDP (£m)  Life expectancy (years)\n",
              "95                    Lesotho      1418                       49\n",
              "160                 Swaziland      2916                       49\n",
              "32   Central African Republic       983                       50\n",
              "146              Sierra Leone      3092                       50\n",
              "33                       Chad      8276                       51\n",
              "41              Cote d'Ivoire     19998                       51\n",
              "3                      Angola     88420                       52\n",
              "124                   Nigeria    329100                       52\n",
              "30                   Cameroon     18896                       55\n",
              "153               South Sudan      8473                       55"
            ]
          },
          "metadata": {
            "tags": []
          },
          "execution_count": 12
        }
      ]
    },
    {
      "cell_type": "markdown",
      "metadata": {
        "id": "JDLhAk48CFs7",
        "colab_type": "text"
      },
      "source": [
        "<div><a id=\"Ext\"></a></div>\n",
        "\n",
        "## Extending the project\n",
        "<br />\n",
        "<div style=\"color:purple;font-weight:bold;\"><u>Task 1</u><p>To what extent do the ten countries with the highest GDP coincide with the ten countries with the longest life expectancy?</p></div>"
      ]
    },
    {
      "cell_type": "code",
      "metadata": {
        "id": "eii1lqVTCFs8",
        "colab_type": "code",
        "colab": {}
      },
      "source": [
        "#################################\n",
        "# Extending the project - Task 1\n",
        "#################################\n",
        "# To what extent do the ten countries with the highest GDP coincide\n",
        "# with the ten countries with the longest life expectancy?\n",
        "\n",
        "# Which to use? sort(LIFE, ascending=False).head(10) or sort(LIFE).tail(10) ?\n",
        "# The two sort methods don't return the same data frames:\n",
        "# -Using sort(LIFE, ascending=False).head(10) gives you just Japan and France.\n",
        "# -Using sort(LIFE).tail(10) gives Italy as well as Japan and France.\n",
        "# See PROOF below.\n",
        "\n",
        "# the 10 countries with highest GDP\n",
        "gdpTopTenHead = gdpVsLife.sort(GDP, ascending=False).head(10) \n",
        "#gdpTopTenTail = gdpVsLife.sort(GDP).tail(10)\n",
        "\n",
        "# the 10 countries with highest life expectancy\n",
        "lifeTopTenHead = gdpVsLife.sort(LIFE, ascending=False).head(10) \n",
        "#lifeTopTenTail = gdpVsLife.sort(LIFE).tail(10)\n",
        "\n",
        "###### PROOF ###### \n",
        "# Proof that sort(LIFE, ascending=False).head(10) and sort(LIFE).tail(10) give different results:\n",
        "#display(gdpTopTenHead)\n",
        "#display(gdpTopTenTail)\n",
        "#display(lifeTopTenHead) \n",
        "#display(lifeTopTenTail) \n",
        "\n",
        "# What are the differences regarding countries included in each resultant table?\n",
        "#lifeTopTenTailList = lifeTopTenTail[COUNTRY].tolist()\n",
        "#lifeTopTenHeadList = lifeTopTenHead[COUNTRY].tolist()\n",
        "#print(set(lifeTopTenTailList) ^ set(lifeTopTenHeadList)) # Calculate symmetrical difference\n",
        "####################"
      ],
      "execution_count": 0,
      "outputs": []
    },
    {
      "cell_type": "code",
      "metadata": {
        "id": "rc6j6pqyCFtA",
        "colab_type": "code",
        "colab": {},
        "outputId": "89667b97-3d97-49f1-9e51-168096a37b88"
      },
      "source": [
        "print(\"From the data, just Japan and France have some of the highest GDP figures that coincide with the longest life expectancy figures.\")\n",
        "print(\"Hence there appears to be no strong correlation between a country's wealth and the life expectancy of its inhabitants.\")\n",
        "display(merge(gdpTopTenHead, lifeTopTenHead,how='inner'))  # Gives just Japan and France\n",
        "#display(merge(gdpTopTenTail[[COUNTRY]], lifeTopTenTail[[COUNTRY]],how='inner')) # Gives Italy, Japan and France"
      ],
      "execution_count": 0,
      "outputs": [
        {
          "output_type": "stream",
          "text": [
            "From the data, just Japan and France have some of the highest GDP figures that coincide with the longest life expectancy figures.\n",
            "Hence there appears to be no strong correlation between a country's wealth and the life expectancy of its inhabitants.\n"
          ],
          "name": "stdout"
        },
        {
          "output_type": "display_data",
          "data": {
            "text/html": [
              "<div style=\"max-height:1000px;max-width:1500px;overflow:auto;\">\n",
              "<table border=\"1\" class=\"dataframe\">\n",
              "  <thead>\n",
              "    <tr style=\"text-align: right;\">\n",
              "      <th></th>\n",
              "      <th>country</th>\n",
              "      <th>GDP (£m)</th>\n",
              "      <th>Life expectancy (years)</th>\n",
              "    </tr>\n",
              "  </thead>\n",
              "  <tbody>\n",
              "    <tr>\n",
              "      <th>0</th>\n",
              "      <td>  Japan</td>\n",
              "      <td> 3143957</td>\n",
              "      <td> 83</td>\n",
              "    </tr>\n",
              "    <tr>\n",
              "      <th>1</th>\n",
              "      <td> France</td>\n",
              "      <td> 1795953</td>\n",
              "      <td> 82</td>\n",
              "    </tr>\n",
              "  </tbody>\n",
              "</table>\n",
              "</div>"
            ],
            "text/plain": [
              "  country  GDP (£m)  Life expectancy (years)\n",
              "0   Japan   3143957                       83\n",
              "1  France   1795953                       82"
            ]
          },
          "metadata": {
            "tags": []
          }
        }
      ]
    },
    {
      "cell_type": "markdown",
      "metadata": {
        "id": "6ULPMjNTCFtG",
        "colab_type": "text"
      },
      "source": [
        "<div style=\"color:purple;font-weight:bold;\"><u>Task 2</u><p>Which are the two countries in the right half of the\n",
        "plot (higher GDP) with life expectancy below 60 years? What factors could explain their lower life expectancy compared\n",
        "to countries with similar GDP? Hint: use the filtering techniques you learned in Week 2 to find the two countries.</p></div>"
      ]
    },
    {
      "cell_type": "code",
      "metadata": {
        "id": "JkwjZcSRCFtH",
        "colab_type": "code",
        "colab": {},
        "outputId": "ac5d4b8d-dc0b-44b0-ae3e-7007ae4e37f5"
      },
      "source": [
        "gdpVsLife[(gdpVsLife[GDP] > 10E4) & (gdpVsLife[LIFE] < 60)]"
      ],
      "execution_count": 0,
      "outputs": [
        {
          "output_type": "execute_result",
          "data": {
            "text/html": [
              "<div style=\"max-height:1000px;max-width:1500px;overflow:auto;\">\n",
              "<table border=\"1\" class=\"dataframe\">\n",
              "  <thead>\n",
              "    <tr style=\"text-align: right;\">\n",
              "      <th></th>\n",
              "      <th>country</th>\n",
              "      <th>GDP (£m)</th>\n",
              "      <th>Life expectancy (years)</th>\n",
              "    </tr>\n",
              "  </thead>\n",
              "  <tbody>\n",
              "    <tr>\n",
              "      <th>124</th>\n",
              "      <td>      Nigeria</td>\n",
              "      <td> 329100</td>\n",
              "      <td> 52</td>\n",
              "    </tr>\n",
              "    <tr>\n",
              "      <th>152</th>\n",
              "      <td> South Africa</td>\n",
              "      <td> 234056</td>\n",
              "      <td> 57</td>\n",
              "    </tr>\n",
              "  </tbody>\n",
              "</table>\n",
              "</div>"
            ],
            "text/plain": [
              "          country  GDP (£m)  Life expectancy (years)\n",
              "124       Nigeria    329100                       52\n",
              "152  South Africa    234056                       57"
            ]
          },
          "metadata": {
            "tags": []
          },
          "execution_count": 15
        }
      ]
    },
    {
      "cell_type": "markdown",
      "metadata": {
        "id": "q_iKYiXwCFtN",
        "colab_type": "text"
      },
      "source": [
        "The two countries with higher GDP (i.e. above £10<sup>5</sup> million) but a life expectancy below 60 are **Nigeria** and **South Africa**."
      ]
    },
    {
      "cell_type": "markdown",
      "metadata": {
        "id": "rmxDwFO0CFtO",
        "colab_type": "text"
      },
      "source": [
        "<div style=\"color:purple;font-weight:bold;\"><u>Task 3</u><p>Redo the analysis using the countries’ GDP per capita\n",
        "(i.e. per inhabitant) instead of their total GDP. If you’ve done the workbook exercises, you already have a column\n",
        "with the population data. Hint: write an expression involving the GDP and population columns, as you learned in\n",
        "Calculating over columns in Week 1. Think about the units in which you display GDP per capita.</p></div>"
      ]
    },
    {
      "cell_type": "code",
      "metadata": {
        "id": "Srut0rQ5CFtQ",
        "colab_type": "code",
        "colab": {},
        "outputId": "90ddefd8-fd41-43ff-b45c-8fa2c4c9bb4e"
      },
      "source": [
        "# 1 Get the GDP data from earlier (missing data and first 34 rows already removed).\n",
        "# 2 Convert GDP from $ to £ (not £m because we don't want to round it too early and introduce rounding errors).\n",
        "# 3 Get rid of columns we don't want\n",
        "\n",
        "GDP = 'GDP (£)'\n",
        "gdpCountries[GDP] = gdpCountries[GDP_INDICATOR].apply(usdToGBP) # US$ to GB£ \n",
        "headings = [COUNTRY, GDP] # Put headings we want to keep in a list                                      \n",
        "gdpClean = gdpCountries[headings] # Create new dataframe with selected headings \n",
        "display(gdpClean.head())"
      ],
      "execution_count": 0,
      "outputs": [
        {
          "output_type": "display_data",
          "data": {
            "text/html": [
              "<div style=\"max-height:1000px;max-width:1500px;overflow:auto;\">\n",
              "<table border=\"1\" class=\"dataframe\">\n",
              "  <thead>\n",
              "    <tr style=\"text-align: right;\">\n",
              "      <th></th>\n",
              "      <th>country</th>\n",
              "      <th>GDP (£)</th>\n",
              "    </tr>\n",
              "  </thead>\n",
              "  <tbody>\n",
              "    <tr>\n",
              "      <th>34</th>\n",
              "      <td> Afghanistan</td>\n",
              "      <td> 1.307474e+10</td>\n",
              "    </tr>\n",
              "    <tr>\n",
              "      <th>35</th>\n",
              "      <td>     Albania</td>\n",
              "      <td> 8.168003e+09</td>\n",
              "    </tr>\n",
              "    <tr>\n",
              "      <th>36</th>\n",
              "      <td>     Algeria</td>\n",
              "      <td> 1.340157e+11</td>\n",
              "    </tr>\n",
              "    <tr>\n",
              "      <th>38</th>\n",
              "      <td>     Andorra</td>\n",
              "      <td> 2.076410e+09</td>\n",
              "    </tr>\n",
              "    <tr>\n",
              "      <th>39</th>\n",
              "      <td>      Angola</td>\n",
              "      <td> 8.842001e+10</td>\n",
              "    </tr>\n",
              "  </tbody>\n",
              "</table>\n",
              "</div>"
            ],
            "text/plain": [
              "        country       GDP (£)\n",
              "34  Afghanistan  1.307474e+10\n",
              "35      Albania  8.168003e+09\n",
              "36      Algeria  1.340157e+11\n",
              "38      Andorra  2.076410e+09\n",
              "39       Angola  8.842001e+10"
            ]
          },
          "metadata": {
            "tags": []
          }
        }
      ]
    },
    {
      "cell_type": "code",
      "metadata": {
        "id": "qbCUpjbNCFtU",
        "colab_type": "code",
        "colab": {},
        "outputId": "f0819a62-d466-40e4-ef50-e2df9b93d8fb"
      },
      "source": [
        "# 1 Get the POP data\n",
        "# 2 Clean it by removing missing data and first 34 rows of unwanted data.\n",
        "# 3 Get rid of columns we don't want\n",
        "\n",
        "POP = 'SP.POP.TOTL' # NOTE - This 'indicator' is a column name in csv file\n",
        "popReset = read_csv('WB POP 2013.csv')\n",
        "\n",
        "popCountries = popReset[34:].dropna() #1\n",
        "headings = [COUNTRY, POP] #2 Put headings we want to keep in a list                                      \n",
        "popClean = popCountries[headings] #3 Create new dataframe with selected headings \n",
        "popClean.head()"
      ],
      "execution_count": 0,
      "outputs": [
        {
          "output_type": "execute_result",
          "data": {
            "text/html": [
              "<div style=\"max-height:1000px;max-width:1500px;overflow:auto;\">\n",
              "<table border=\"1\" class=\"dataframe\">\n",
              "  <thead>\n",
              "    <tr style=\"text-align: right;\">\n",
              "      <th></th>\n",
              "      <th>country</th>\n",
              "      <th>SP.POP.TOTL</th>\n",
              "    </tr>\n",
              "  </thead>\n",
              "  <tbody>\n",
              "    <tr>\n",
              "      <th>34</th>\n",
              "      <td>    Afghanistan</td>\n",
              "      <td> 30682500</td>\n",
              "    </tr>\n",
              "    <tr>\n",
              "      <th>35</th>\n",
              "      <td>        Albania</td>\n",
              "      <td>  2897366</td>\n",
              "    </tr>\n",
              "    <tr>\n",
              "      <th>36</th>\n",
              "      <td>        Algeria</td>\n",
              "      <td> 38186135</td>\n",
              "    </tr>\n",
              "    <tr>\n",
              "      <th>37</th>\n",
              "      <td> American Samoa</td>\n",
              "      <td>    55302</td>\n",
              "    </tr>\n",
              "    <tr>\n",
              "      <th>38</th>\n",
              "      <td>        Andorra</td>\n",
              "      <td>    75902</td>\n",
              "    </tr>\n",
              "  </tbody>\n",
              "</table>\n",
              "</div>"
            ],
            "text/plain": [
              "           country  SP.POP.TOTL\n",
              "34     Afghanistan     30682500\n",
              "35         Albania      2897366\n",
              "36         Algeria     38186135\n",
              "37  American Samoa        55302\n",
              "38         Andorra        75902"
            ]
          },
          "metadata": {
            "tags": []
          },
          "execution_count": 17
        }
      ]
    },
    {
      "cell_type": "code",
      "metadata": {
        "id": "NQfgVPihCFtZ",
        "colab_type": "code",
        "colab": {},
        "outputId": "fd793918-2dd8-4d17-817a-aeddbb1886d2"
      },
      "source": [
        "# OK, lets merge gdp and population tables to get one table we can use to calculate 'GDP per capita'.\n",
        "gdpVsPop = merge(gdpClean, popClean, on=COUNTRY, how='inner')\n",
        "gdpVsPop.head()"
      ],
      "execution_count": 0,
      "outputs": [
        {
          "output_type": "execute_result",
          "data": {
            "text/html": [
              "<div style=\"max-height:1000px;max-width:1500px;overflow:auto;\">\n",
              "<table border=\"1\" class=\"dataframe\">\n",
              "  <thead>\n",
              "    <tr style=\"text-align: right;\">\n",
              "      <th></th>\n",
              "      <th>country</th>\n",
              "      <th>GDP (£)</th>\n",
              "      <th>SP.POP.TOTL</th>\n",
              "    </tr>\n",
              "  </thead>\n",
              "  <tbody>\n",
              "    <tr>\n",
              "      <th>0</th>\n",
              "      <td> Afghanistan</td>\n",
              "      <td> 1.307474e+10</td>\n",
              "      <td> 30682500</td>\n",
              "    </tr>\n",
              "    <tr>\n",
              "      <th>1</th>\n",
              "      <td>     Albania</td>\n",
              "      <td> 8.168003e+09</td>\n",
              "      <td>  2897366</td>\n",
              "    </tr>\n",
              "    <tr>\n",
              "      <th>2</th>\n",
              "      <td>     Algeria</td>\n",
              "      <td> 1.340157e+11</td>\n",
              "      <td> 38186135</td>\n",
              "    </tr>\n",
              "    <tr>\n",
              "      <th>3</th>\n",
              "      <td>     Andorra</td>\n",
              "      <td> 2.076410e+09</td>\n",
              "      <td>    75902</td>\n",
              "    </tr>\n",
              "    <tr>\n",
              "      <th>4</th>\n",
              "      <td>      Angola</td>\n",
              "      <td> 8.842001e+10</td>\n",
              "      <td> 23448202</td>\n",
              "    </tr>\n",
              "  </tbody>\n",
              "</table>\n",
              "</div>"
            ],
            "text/plain": [
              "       country       GDP (£)  SP.POP.TOTL\n",
              "0  Afghanistan  1.307474e+10     30682500\n",
              "1      Albania  8.168003e+09      2897366\n",
              "2      Algeria  1.340157e+11     38186135\n",
              "3      Andorra  2.076410e+09        75902\n",
              "4       Angola  8.842001e+10     23448202"
            ]
          },
          "metadata": {
            "tags": []
          },
          "execution_count": 18
        }
      ]
    },
    {
      "cell_type": "code",
      "metadata": {
        "id": "__elbdWlCFtg",
        "colab_type": "code",
        "colab": {},
        "outputId": "4ebc21e2-82df-49a9-d488-8fa96053079d"
      },
      "source": [
        "# Create 'GDP per capita' column using an appropriate calculation on the other two columns.\n",
        "def roundTo2dp (value):\n",
        "    return round(value, 2) \n",
        "\n",
        "GDPPC = 'GDP per capita (£)'\n",
        "\n",
        "gdpVsPop[GDPPC] = gdpVsPop[GDP] / gdpVsPop[POP]\n",
        "gdpVsPop[GDPPC] = gdpVsPop[GDPPC].apply(roundTo2dp) # Round GDPPC to 2 decimal places\n",
        "headings = [COUNTRY, GDPPC] # Put headings we want to keep in a list                                      \n",
        "gdppc = gdpVsPop[headings]  # Create new dataframe with selected headings \n",
        "gdppc.head()"
      ],
      "execution_count": 0,
      "outputs": [
        {
          "output_type": "execute_result",
          "data": {
            "text/html": [
              "<div style=\"max-height:1000px;max-width:1500px;overflow:auto;\">\n",
              "<table border=\"1\" class=\"dataframe\">\n",
              "  <thead>\n",
              "    <tr style=\"text-align: right;\">\n",
              "      <th></th>\n",
              "      <th>country</th>\n",
              "      <th>GDP per capita (£)</th>\n",
              "    </tr>\n",
              "  </thead>\n",
              "  <tbody>\n",
              "    <tr>\n",
              "      <th>0</th>\n",
              "      <td> Afghanistan</td>\n",
              "      <td>   426.13</td>\n",
              "    </tr>\n",
              "    <tr>\n",
              "      <th>1</th>\n",
              "      <td>     Albania</td>\n",
              "      <td>  2819.11</td>\n",
              "    </tr>\n",
              "    <tr>\n",
              "      <th>2</th>\n",
              "      <td>     Algeria</td>\n",
              "      <td>  3509.54</td>\n",
              "    </tr>\n",
              "    <tr>\n",
              "      <th>3</th>\n",
              "      <td>     Andorra</td>\n",
              "      <td> 27356.47</td>\n",
              "    </tr>\n",
              "    <tr>\n",
              "      <th>4</th>\n",
              "      <td>      Angola</td>\n",
              "      <td>  3770.87</td>\n",
              "    </tr>\n",
              "  </tbody>\n",
              "</table>\n",
              "</div>"
            ],
            "text/plain": [
              "       country  GDP per capita (£)\n",
              "0  Afghanistan              426.13\n",
              "1      Albania             2819.11\n",
              "2      Algeria             3509.54\n",
              "3      Andorra            27356.47\n",
              "4       Angola             3770.87"
            ]
          },
          "metadata": {
            "tags": []
          },
          "execution_count": 19
        }
      ]
    },
    {
      "cell_type": "code",
      "metadata": {
        "id": "1U7Vxj4xCFtl",
        "colab_type": "code",
        "colab": {},
        "outputId": "a47e5550-a10a-46bc-9379-42f8001cf251"
      },
      "source": [
        "# OK, lets merge gdppc and life expectancy tables to get one table we can work with...\n",
        "gdppcVsLife = merge(gdppc, lifeClean, on=COUNTRY, how='inner')\n",
        "gdppcTop3 = gdppcVsLife.sort(GDPPC, ascending=False).head(3)\n",
        "gdppcBottom3 = gdppcVsLife.sort(GDPPC, ascending=False).tail(3) \n",
        "lifeTop3 = gdppcVsLife.sort(LIFE, ascending=False).head(3)\n",
        "lifeBottom3 = gdppcVsLife.sort(LIFE, ascending=False).tail(3) \n",
        "print(\"Top 3 for GDP per capita (£):\")\n",
        "display(gdppcTop3)\n",
        "print(\"Bottom 3 for GDP per capita (£):\")\n",
        "display(gdppcBottom3)\n",
        "print(\"Top 3 for life expectancy (years)\")\n",
        "display(lifeTop3)\n",
        "print(\"Bottom 3 for life expectancy (years):\")\n",
        "display(lifeBottom3)\n",
        "print(\"The UK GDP per capita (£) and life expectancy figures are as shown below:\")\n",
        "display(gdppcVsLife[(gdppcVsLife[COUNTRY] == 'United Kingdom')]) # Sanity check!"
      ],
      "execution_count": 0,
      "outputs": [
        {
          "output_type": "stream",
          "text": [
            "Top 3 for GDP per capita (£):\n"
          ],
          "name": "stdout"
        },
        {
          "output_type": "display_data",
          "data": {
            "text/html": [
              "<div style=\"max-height:1000px;max-width:1500px;overflow:auto;\">\n",
              "<table border=\"1\" class=\"dataframe\">\n",
              "  <thead>\n",
              "    <tr style=\"text-align: right;\">\n",
              "      <th></th>\n",
              "      <th>country</th>\n",
              "      <th>GDP per capita (£)</th>\n",
              "      <th>Life expectancy (years)</th>\n",
              "    </tr>\n",
              "  </thead>\n",
              "  <tbody>\n",
              "    <tr>\n",
              "      <th>99 </th>\n",
              "      <td> Luxembourg</td>\n",
              "      <td> 72679.55</td>\n",
              "      <td> 82</td>\n",
              "    </tr>\n",
              "    <tr>\n",
              "      <th>125</th>\n",
              "      <td>     Norway</td>\n",
              "      <td> 65717.26</td>\n",
              "      <td> 81</td>\n",
              "    </tr>\n",
              "    <tr>\n",
              "      <th>136</th>\n",
              "      <td>      Qatar</td>\n",
              "      <td> 61400.15</td>\n",
              "      <td> 78</td>\n",
              "    </tr>\n",
              "  </tbody>\n",
              "</table>\n",
              "</div>"
            ],
            "text/plain": [
              "        country  GDP per capita (£)  Life expectancy (years)\n",
              "99   Luxembourg            72679.55                       82\n",
              "125      Norway            65717.26                       81\n",
              "136       Qatar            61400.15                       78"
            ]
          },
          "metadata": {
            "tags": []
          }
        },
        {
          "output_type": "stream",
          "text": [
            "Bottom 3 for GDP per capita (£):\n"
          ],
          "name": "stdout"
        },
        {
          "output_type": "display_data",
          "data": {
            "text/html": [
              "<div style=\"max-height:1000px;max-width:1500px;overflow:auto;\">\n",
              "<table border=\"1\" class=\"dataframe\">\n",
              "  <thead>\n",
              "    <tr style=\"text-align: right;\">\n",
              "      <th></th>\n",
              "      <th>country</th>\n",
              "      <th>GDP per capita (£)</th>\n",
              "      <th>Life expectancy (years)</th>\n",
              "    </tr>\n",
              "  </thead>\n",
              "  <tbody>\n",
              "    <tr>\n",
              "      <th>32 </th>\n",
              "      <td> Central African Republic</td>\n",
              "      <td> 208.62</td>\n",
              "      <td> 50</td>\n",
              "    </tr>\n",
              "    <tr>\n",
              "      <th>27 </th>\n",
              "      <td>                  Burundi</td>\n",
              "      <td> 165.75</td>\n",
              "      <td> 56</td>\n",
              "    </tr>\n",
              "    <tr>\n",
              "      <th>103</th>\n",
              "      <td>                   Malawi</td>\n",
              "      <td> 153.29</td>\n",
              "      <td> 61</td>\n",
              "    </tr>\n",
              "  </tbody>\n",
              "</table>\n",
              "</div>"
            ],
            "text/plain": [
              "                      country  GDP per capita (£)  Life expectancy (years)\n",
              "32   Central African Republic              208.62                       50\n",
              "27                    Burundi              165.75                       56\n",
              "103                    Malawi              153.29                       61"
            ]
          },
          "metadata": {
            "tags": []
          }
        },
        {
          "output_type": "stream",
          "text": [
            "Top 3 for life expectancy (years)\n"
          ],
          "name": "stdout"
        },
        {
          "output_type": "display_data",
          "data": {
            "text/html": [
              "<div style=\"max-height:1000px;max-width:1500px;overflow:auto;\">\n",
              "<table border=\"1\" class=\"dataframe\">\n",
              "  <thead>\n",
              "    <tr style=\"text-align: right;\">\n",
              "      <th></th>\n",
              "      <th>country</th>\n",
              "      <th>GDP per capita (£)</th>\n",
              "      <th>Life expectancy (years)</th>\n",
              "    </tr>\n",
              "  </thead>\n",
              "  <tbody>\n",
              "    <tr>\n",
              "      <th>72 </th>\n",
              "      <td> Hong Kong SAR, China</td>\n",
              "      <td> 24517.50</td>\n",
              "      <td> 84</td>\n",
              "    </tr>\n",
              "    <tr>\n",
              "      <th>74 </th>\n",
              "      <td>              Iceland</td>\n",
              "      <td> 30351.62</td>\n",
              "      <td> 83</td>\n",
              "    </tr>\n",
              "    <tr>\n",
              "      <th>162</th>\n",
              "      <td>          Switzerland</td>\n",
              "      <td> 54109.81</td>\n",
              "      <td> 83</td>\n",
              "    </tr>\n",
              "  </tbody>\n",
              "</table>\n",
              "</div>"
            ],
            "text/plain": [
              "                  country  GDP per capita (£)  Life expectancy (years)\n",
              "72   Hong Kong SAR, China            24517.50                       84\n",
              "74                Iceland            30351.62                       83\n",
              "162           Switzerland            54109.81                       83"
            ]
          },
          "metadata": {
            "tags": []
          }
        },
        {
          "output_type": "stream",
          "text": [
            "Bottom 3 for life expectancy (years):\n"
          ],
          "name": "stdout"
        },
        {
          "output_type": "display_data",
          "data": {
            "text/html": [
              "<div style=\"max-height:1000px;max-width:1500px;overflow:auto;\">\n",
              "<table border=\"1\" class=\"dataframe\">\n",
              "  <thead>\n",
              "    <tr style=\"text-align: right;\">\n",
              "      <th></th>\n",
              "      <th>country</th>\n",
              "      <th>GDP per capita (£)</th>\n",
              "      <th>Life expectancy (years)</th>\n",
              "    </tr>\n",
              "  </thead>\n",
              "  <tbody>\n",
              "    <tr>\n",
              "      <th>146</th>\n",
              "      <td> Sierra Leone</td>\n",
              "      <td>  500.40</td>\n",
              "      <td> 50</td>\n",
              "    </tr>\n",
              "    <tr>\n",
              "      <th>95 </th>\n",
              "      <td>      Lesotho</td>\n",
              "      <td>  680.50</td>\n",
              "      <td> 49</td>\n",
              "    </tr>\n",
              "    <tr>\n",
              "      <th>160</th>\n",
              "      <td>    Swaziland</td>\n",
              "      <td> 2331.38</td>\n",
              "      <td> 49</td>\n",
              "    </tr>\n",
              "  </tbody>\n",
              "</table>\n",
              "</div>"
            ],
            "text/plain": [
              "          country  GDP per capita (£)  Life expectancy (years)\n",
              "146  Sierra Leone              500.40                       50\n",
              "95        Lesotho              680.50                       49\n",
              "160     Swaziland             2331.38                       49"
            ]
          },
          "metadata": {
            "tags": []
          }
        },
        {
          "output_type": "stream",
          "text": [
            "The UK GDP per capita (£) and life expectancy figures are as shown below:\n"
          ],
          "name": "stdout"
        },
        {
          "output_type": "display_data",
          "data": {
            "text/html": [
              "<div style=\"max-height:1000px;max-width:1500px;overflow:auto;\">\n",
              "<table border=\"1\" class=\"dataframe\">\n",
              "  <thead>\n",
              "    <tr style=\"text-align: right;\">\n",
              "      <th></th>\n",
              "      <th>country</th>\n",
              "      <th>GDP per capita (£)</th>\n",
              "      <th>Life expectancy (years)</th>\n",
              "    </tr>\n",
              "  </thead>\n",
              "  <tbody>\n",
              "    <tr>\n",
              "      <th>176</th>\n",
              "      <td> United Kingdom</td>\n",
              "      <td> 27038.54</td>\n",
              "      <td> 81</td>\n",
              "    </tr>\n",
              "  </tbody>\n",
              "</table>\n",
              "</div>"
            ],
            "text/plain": [
              "            country  GDP per capita (£)  Life expectancy (years)\n",
              "176  United Kingdom            27038.54                       81"
            ]
          },
          "metadata": {
            "tags": []
          }
        }
      ]
    },
    {
      "cell_type": "code",
      "metadata": {
        "id": "kfwq98vkCFts",
        "colab_type": "code",
        "colab": {},
        "outputId": "e437f34b-c8be-4a89-fb52-da3ced1f8a4d"
      },
      "source": [
        "gdppcVsLife.plot(x=GDPPC, y=LIFE, kind='scatter', grid=True, logx=True, figsize=(10, 5))"
      ],
      "execution_count": 0,
      "outputs": [
        {
          "output_type": "execute_result",
          "data": {
            "text/plain": [
              "<matplotlib.axes._subplots.AxesSubplot at 0x7fee8df35c88>"
            ]
          },
          "metadata": {
            "tags": []
          },
          "execution_count": 21
        },
        {
          "output_type": "display_data",
          "data": {
            "image/png": "[encoded data removed]",
            "text/plain": [
              "<matplotlib.figure.Figure at 0x7fee8dfea9e8>"
            ]
          },
          "metadata": {
            "tags": []
          }
        }
      ]
    },
    {
      "cell_type": "code",
      "metadata": {
        "id": "WpeRQkBkCFtz",
        "colab_type": "code",
        "colab": {},
        "outputId": "52656952-9c8c-473c-fa36-769cf671151d"
      },
      "source": [
        "from scipy.stats import spearmanr\n",
        "\n",
        "gdppcColumn = gdppcVsLife[GDPPC]\n",
        "lifeColumn = gdppcVsLife[LIFE]\n",
        "(correlation, pValue) = spearmanr(gdppcColumn, lifeColumn)\n",
        "print('The correlation using Spearman ranking is', correlation)\n",
        "print('The p-value is', pValue)\n",
        "if pValue < 0.05:\n",
        "    print('It is statistically significant.')\n",
        "else:\n",
        "    print('It is not statistically significant.')"
      ],
      "execution_count": 0,
      "outputs": [
        {
          "output_type": "stream",
          "text": [
            "The correlation using Spearman ranking is 0.850255459772\n",
            "The p-value is 3.59839537407e-53\n",
            "It is statistically significant.\n"
          ],
          "name": "stdout"
        }
      ]
    },
    {
      "cell_type": "markdown",
      "metadata": {
        "id": "tBCTLynnCFt3",
        "colab_type": "text"
      },
      "source": [
        "## Conclusions\n",
        "\n",
        "From our analysis, there appears to be no strong correlation between a country's wealth and the life expectancy of its inhabitants: there is often a wide variation of life expectancy for countries with similar GDP, countries with the lowest life expectancy are not the poorest countries, and countries with the highest expectancy are not the richest countries. Nevertheless there is some relationship, because the vast majority of countries with a life expectancy below 70 years is on the left half of the scatterplot.\n",
        "\n",
        "From the chart above, however, we can see that, generally, as **GDP per capita increases so does life expectancy**. Having said that, there is one country with a higher GDP per capita but a life expectancy below 60. This country is Equatorial Guinea, as shown below. This alongside the moderate correlation (0.501, p<0.001) indicates that although there is a general trend between these two variables, there are likely to be other factors involved in this relationship, which should be identified and further investigated."
      ]
    },
    {
      "cell_type": "code",
      "metadata": {
        "id": "y_IX6FAbCFt4",
        "colab_type": "code",
        "colab": {},
        "outputId": "5ae82bfb-109c-4bfe-f10b-f3e38ed7c7bd"
      },
      "source": [
        "gdppcVsLife[(gdppcVsLife[GDPPC] > 10000) & (gdppcVsLife[LIFE] < 60)]"
      ],
      "execution_count": 0,
      "outputs": [
        {
          "output_type": "execute_result",
          "data": {
            "text/html": [
              "<div style=\"max-height:1000px;max-width:1500px;overflow:auto;\">\n",
              "<table border=\"1\" class=\"dataframe\">\n",
              "  <thead>\n",
              "    <tr style=\"text-align: right;\">\n",
              "      <th></th>\n",
              "      <th>country</th>\n",
              "      <th>GDP per capita (£)</th>\n",
              "      <th>Life expectancy (years)</th>\n",
              "    </tr>\n",
              "  </thead>\n",
              "  <tbody>\n",
              "    <tr>\n",
              "      <th>52</th>\n",
              "      <td> Equatorial Guinea</td>\n",
              "      <td> 13738.71</td>\n",
              "      <td> 57</td>\n",
              "    </tr>\n",
              "  </tbody>\n",
              "</table>\n",
              "</div>"
            ],
            "text/plain": [
              "              country  GDP per capita (£)  Life expectancy (years)\n",
              "52  Equatorial Guinea            13738.71                       57"
            ]
          },
          "metadata": {
            "tags": []
          },
          "execution_count": 23
        }
      ]
    },
    {
      "cell_type": "code",
      "metadata": {
        "id": "kH-rhtjDCFt-",
        "colab_type": "code",
        "colab": {},
        "outputId": "f4cb4e83-c9a8-4458-8feb-c9a84f567482"
      },
      "source": [
        "numberOfRows = len(gdppcVsLife.index) # Get number of rows \n",
        "set_option('max_rows', numberOfRows) # Set max_rows option\n",
        "gdppcSort = gdppcVsLife.sort(GDPPC, ascending=False)\n",
        "gdppcSort = gdppcSort.reset_index(drop=True) # Reset index and drop old one\n",
        "\n",
        "print(\"\\nNOTE:\\n\\nFor GDP per capita, Equatorial Guinea is \" + str(gdppcSort[(gdppcSort[COUNTRY] == 'Equatorial Guinea')].index[0]+1) + \" out of \" + str(len(gdppcSort)) + \" countries.\")\n",
        "\n",
        "lifeSort = gdppcVsLife.sort(LIFE, ascending=False)\n",
        "lifeSort = lifeSort.reset_index(drop=True) # Reset index and drop old one\n",
        "\n",
        "print(\"But for life expectancy, Equatorial Guinea is number \" + str(lifeSort[(lifeSort[COUNTRY] == 'Equatorial Guinea')].index[0]+1) + \"!\")"
      ],
      "execution_count": 0,
      "outputs": [
        {
          "output_type": "stream",
          "text": [
            "\n",
            "NOTE:\n",
            "\n",
            "For GDP per capita, Equatorial Guinea is 41 out of 186 countries.\n",
            "But for life expectancy, Equatorial Guinea is number 171!\n"
          ],
          "name": "stdout"
        }
      ]
    },
    {
      "cell_type": "markdown",
      "metadata": {
        "collapsed": true,
        "id": "subuJ3ywCFuG",
        "colab_type": "text"
      },
      "source": [
        "<div><a href=\"#Top\"><img style=\"display:inline\" src=\"http://www.abdn.ac.uk/global/images/layout/to_top_arrow.gif\">Top of page</a>\n",
        "</div>"
      ]
    },
    {
      "cell_type": "code",
      "metadata": {
        "id": "BmE5zgNZCFuH",
        "colab_type": "code",
        "colab": {},
        "outputId": "51333367-1202-4618-e197-f63b58e567c5"
      },
      "source": [
        "HTML('''<script>  \n",
        "function toggler() { \n",
        "$('div.input').toggle(); \n",
        "location.href=\"#Bottom\";\n",
        "} \n",
        "</script>\n",
        "<p style=\"display:inline;\"><center>Click <a href=\"javascript:toggler();\">here</a> to toggle code visibility on/off</center></p>\n",
        "<script>\n",
        "$('div.input').hide();\n",
        "location.href=\"#Top\";</script></div>''')"
      ],
      "execution_count": 0,
      "outputs": [
        {
          "output_type": "execute_result",
          "data": {
            "text/html": [
              "<script>  \n",
              "function toggler() { \n",
              "$('div.input').toggle(); \n",
              "location.href=\"#Bottom\";\n",
              "} \n",
              "</script>\n",
              "<p style=\"display:inline;\"><center>Click <a href=\"javascript:toggler();\">here</a> to toggle code visibility on/off</center></p>\n",
              "<script>\n",
              "$('div.input').hide();\n",
              "location.href=\"#Top\";</script></div>"
            ],
            "text/plain": [
              "<IPython.core.display.HTML object>"
            ]
          },
          "metadata": {
            "tags": []
          },
          "execution_count": 25
        }
      ]
    },
    {
      "cell_type": "markdown",
      "metadata": {
        "collapsed": false,
        "id": "JNuEL3wICFuO",
        "colab_type": "text"
      },
      "source": [
        "<div><a id=\"Bottom\"></a>&copy; 2016 Phipps E&amp;OE.</div>"
      ]
    },
    {
      "cell_type": "markdown",
      "metadata": {
        "id": "ybiPm6vOCFuP",
        "colab_type": "text"
      },
      "source": [
        "<div><a id=\"#Bottom\"></a></div>"
      ]
    }
  ]
}